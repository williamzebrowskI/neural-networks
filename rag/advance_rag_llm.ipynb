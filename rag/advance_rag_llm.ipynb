{
 "cells": [
  {
   "cell_type": "markdown",
   "metadata": {},
   "source": [
    "# Advanced RAG w/ Re-Ranking | Groq + Ollama + LangChain + Cohere + PineCone + Llama3-70B"
   ]
  },
  {
   "cell_type": "markdown",
   "metadata": {},
   "source": [
    "This Jupyter notebook demonstrates an advanced implementation of the Retrieval-Augmented Generation (RAG) technique, enhanced with document re-ranking, to generate precise summaries based on a given query. The process involves several key steps:\n",
    "\n",
    "1. **Importing Libraries**: Sets up the environment by importing necessary Python libraries for PDF processing, text splitting, embeddings, and API interactions.\n",
    "2. **Language Model Setup with Groq**: Initializes a language model using Groq's platform, leveraging the Llama3 model with 8 billion parameters for generating responses.\n",
    "3. **PDF Text Processing**: Reads and processes text from a PDF document, splitting it into manageable chunks for further processing.\n",
    "4. **Document Embedding with Ollama**: Utilizes the Ollama embeddings to convert text chunks into vector representations.\n",
    "5. **Pinecone Indexing**: Sets up a Pinecone vector database for storing and querying document embeddings.\n",
    "6. **Query Embedding and Retrieval**: Embeds a user query for similarity search in the Pinecone index, retrieving relevant document chunks.\n",
    "7. **Re-Ranking with Cohere**: Applies Cohere's re-ranking model to refine the search results, ensuring the most relevant documents are selected.\n",
    "8. **Summary Generation**: Uses the Groq language model to generate a comprehensive summary based on the context provided by the re-ranked documents.\n",
    "\n",
    "This notebook serves as a comprehensive guide for implementing a sophisticated RAG system with re-ranking, showcasing the integration of multiple AI and NLP technologies to enhance information retrieval and summarization tasks."
   ]
  },
  {
   "cell_type": "markdown",
   "metadata": {},
   "source": [
    "install dependencies"
   ]
  },
  {
   "cell_type": "code",
   "execution_count": 58,
   "metadata": {},
   "outputs": [
    {
     "name": "stdout",
     "output_type": "stream",
     "text": [
      "Requirement already satisfied: groq in /Users/williamzebrowski/Library/Mobile Documents/com~apple~CloudDocs/transform_llm/.venv/lib/python3.11/site-packages (0.9.0)\n",
      "Requirement already satisfied: ollama in /Users/williamzebrowski/Library/Mobile Documents/com~apple~CloudDocs/transform_llm/.venv/lib/python3.11/site-packages (0.2.1)\n",
      "Requirement already satisfied: cohere in /Users/williamzebrowski/Library/Mobile Documents/com~apple~CloudDocs/transform_llm/.venv/lib/python3.11/site-packages (5.5.8)\n",
      "Requirement already satisfied: langchain in /Users/williamzebrowski/Library/Mobile Documents/com~apple~CloudDocs/transform_llm/.venv/lib/python3.11/site-packages (0.2.11)\n",
      "Requirement already satisfied: pinecone-client in /Users/williamzebrowski/Library/Mobile Documents/com~apple~CloudDocs/transform_llm/.venv/lib/python3.11/site-packages (4.1.2)\n",
      "Requirement already satisfied: PyPDF2 in /Users/williamzebrowski/Library/Mobile Documents/com~apple~CloudDocs/transform_llm/.venv/lib/python3.11/site-packages (3.0.1)\n",
      "Requirement already satisfied: langchain_community in /Users/williamzebrowski/Library/Mobile Documents/com~apple~CloudDocs/transform_llm/.venv/lib/python3.11/site-packages (0.2.10)\n",
      "Requirement already satisfied: langchain-groq in /Users/williamzebrowski/Library/Mobile Documents/com~apple~CloudDocs/transform_llm/.venv/lib/python3.11/site-packages (0.1.6)\n",
      "Requirement already satisfied: python-dotenv in /Users/williamzebrowski/Library/Mobile Documents/com~apple~CloudDocs/transform_llm/.venv/lib/python3.11/site-packages (1.0.1)\n",
      "Requirement already satisfied: anyio<5,>=3.5.0 in /Users/williamzebrowski/Library/Mobile Documents/com~apple~CloudDocs/transform_llm/.venv/lib/python3.11/site-packages (from groq) (4.4.0)\n",
      "Requirement already satisfied: distro<2,>=1.7.0 in /Users/williamzebrowski/Library/Mobile Documents/com~apple~CloudDocs/transform_llm/.venv/lib/python3.11/site-packages (from groq) (1.9.0)\n",
      "Requirement already satisfied: httpx<1,>=0.23.0 in /Users/williamzebrowski/Library/Mobile Documents/com~apple~CloudDocs/transform_llm/.venv/lib/python3.11/site-packages (from groq) (0.27.0)\n",
      "Requirement already satisfied: pydantic<3,>=1.9.0 in /Users/williamzebrowski/Library/Mobile Documents/com~apple~CloudDocs/transform_llm/.venv/lib/python3.11/site-packages (from groq) (2.8.2)\n",
      "Requirement already satisfied: sniffio in /Users/williamzebrowski/Library/Mobile Documents/com~apple~CloudDocs/transform_llm/.venv/lib/python3.11/site-packages (from groq) (1.3.1)\n",
      "Requirement already satisfied: typing-extensions<5,>=4.7 in /Users/williamzebrowski/Library/Mobile Documents/com~apple~CloudDocs/transform_llm/.venv/lib/python3.11/site-packages (from groq) (4.12.2)\n",
      "Requirement already satisfied: boto3<2.0.0,>=1.34.0 in /Users/williamzebrowski/Library/Mobile Documents/com~apple~CloudDocs/transform_llm/.venv/lib/python3.11/site-packages (from cohere) (1.34.140)\n",
      "Requirement already satisfied: fastavro<2.0.0,>=1.9.4 in /Users/williamzebrowski/Library/Mobile Documents/com~apple~CloudDocs/transform_llm/.venv/lib/python3.11/site-packages (from cohere) (1.9.4)\n",
      "Requirement already satisfied: httpx-sse<0.5.0,>=0.4.0 in /Users/williamzebrowski/Library/Mobile Documents/com~apple~CloudDocs/transform_llm/.venv/lib/python3.11/site-packages (from cohere) (0.4.0)\n",
      "Requirement already satisfied: parameterized<0.10.0,>=0.9.0 in /Users/williamzebrowski/Library/Mobile Documents/com~apple~CloudDocs/transform_llm/.venv/lib/python3.11/site-packages (from cohere) (0.9.0)\n",
      "Requirement already satisfied: requests<3.0.0,>=2.0.0 in /Users/williamzebrowski/Library/Mobile Documents/com~apple~CloudDocs/transform_llm/.venv/lib/python3.11/site-packages (from cohere) (2.32.3)\n",
      "Requirement already satisfied: tokenizers<1,>=0.15 in /Users/williamzebrowski/Library/Mobile Documents/com~apple~CloudDocs/transform_llm/.venv/lib/python3.11/site-packages (from cohere) (0.19.1)\n",
      "Requirement already satisfied: types-requests<3.0.0,>=2.0.0 in /Users/williamzebrowski/Library/Mobile Documents/com~apple~CloudDocs/transform_llm/.venv/lib/python3.11/site-packages (from cohere) (2.32.0.20240622)\n",
      "Requirement already satisfied: PyYAML>=5.3 in /Users/williamzebrowski/Library/Mobile Documents/com~apple~CloudDocs/transform_llm/.venv/lib/python3.11/site-packages (from langchain) (6.0.1)\n",
      "Requirement already satisfied: SQLAlchemy<3,>=1.4 in /Users/williamzebrowski/Library/Mobile Documents/com~apple~CloudDocs/transform_llm/.venv/lib/python3.11/site-packages (from langchain) (2.0.31)\n",
      "Requirement already satisfied: aiohttp<4.0.0,>=3.8.3 in /Users/williamzebrowski/Library/Mobile Documents/com~apple~CloudDocs/transform_llm/.venv/lib/python3.11/site-packages (from langchain) (3.9.5)\n",
      "Requirement already satisfied: langchain-core<0.3.0,>=0.2.23 in /Users/williamzebrowski/Library/Mobile Documents/com~apple~CloudDocs/transform_llm/.venv/lib/python3.11/site-packages (from langchain) (0.2.23)\n",
      "Requirement already satisfied: langchain-text-splitters<0.3.0,>=0.2.0 in /Users/williamzebrowski/Library/Mobile Documents/com~apple~CloudDocs/transform_llm/.venv/lib/python3.11/site-packages (from langchain) (0.2.2)\n",
      "Requirement already satisfied: langsmith<0.2.0,>=0.1.17 in /Users/williamzebrowski/Library/Mobile Documents/com~apple~CloudDocs/transform_llm/.venv/lib/python3.11/site-packages (from langchain) (0.1.83)\n",
      "Requirement already satisfied: numpy<2,>=1 in /Users/williamzebrowski/Library/Mobile Documents/com~apple~CloudDocs/transform_llm/.venv/lib/python3.11/site-packages (from langchain) (1.26.4)\n",
      "Requirement already satisfied: tenacity!=8.4.0,<9.0.0,>=8.1.0 in /Users/williamzebrowski/Library/Mobile Documents/com~apple~CloudDocs/transform_llm/.venv/lib/python3.11/site-packages (from langchain) (8.5.0)\n",
      "Requirement already satisfied: certifi>=2019.11.17 in /Users/williamzebrowski/Library/Mobile Documents/com~apple~CloudDocs/transform_llm/.venv/lib/python3.11/site-packages (from pinecone-client) (2024.6.2)\n",
      "Requirement already satisfied: pinecone-plugin-interface<0.0.8,>=0.0.7 in /Users/williamzebrowski/Library/Mobile Documents/com~apple~CloudDocs/transform_llm/.venv/lib/python3.11/site-packages (from pinecone-client) (0.0.7)\n",
      "Requirement already satisfied: tqdm>=4.64.1 in /Users/williamzebrowski/Library/Mobile Documents/com~apple~CloudDocs/transform_llm/.venv/lib/python3.11/site-packages (from pinecone-client) (4.66.4)\n",
      "Requirement already satisfied: urllib3>=1.26.0 in /Users/williamzebrowski/Library/Mobile Documents/com~apple~CloudDocs/transform_llm/.venv/lib/python3.11/site-packages (from pinecone-client) (2.2.2)\n",
      "Requirement already satisfied: dataclasses-json<0.7,>=0.5.7 in /Users/williamzebrowski/Library/Mobile Documents/com~apple~CloudDocs/transform_llm/.venv/lib/python3.11/site-packages (from langchain_community) (0.6.7)\n",
      "Requirement already satisfied: aiosignal>=1.1.2 in /Users/williamzebrowski/Library/Mobile Documents/com~apple~CloudDocs/transform_llm/.venv/lib/python3.11/site-packages (from aiohttp<4.0.0,>=3.8.3->langchain) (1.3.1)\n",
      "Requirement already satisfied: attrs>=17.3.0 in /Users/williamzebrowski/Library/Mobile Documents/com~apple~CloudDocs/transform_llm/.venv/lib/python3.11/site-packages (from aiohttp<4.0.0,>=3.8.3->langchain) (23.2.0)\n",
      "Requirement already satisfied: frozenlist>=1.1.1 in /Users/williamzebrowski/Library/Mobile Documents/com~apple~CloudDocs/transform_llm/.venv/lib/python3.11/site-packages (from aiohttp<4.0.0,>=3.8.3->langchain) (1.4.1)\n",
      "Requirement already satisfied: multidict<7.0,>=4.5 in /Users/williamzebrowski/Library/Mobile Documents/com~apple~CloudDocs/transform_llm/.venv/lib/python3.11/site-packages (from aiohttp<4.0.0,>=3.8.3->langchain) (6.0.5)\n",
      "Requirement already satisfied: yarl<2.0,>=1.0 in /Users/williamzebrowski/Library/Mobile Documents/com~apple~CloudDocs/transform_llm/.venv/lib/python3.11/site-packages (from aiohttp<4.0.0,>=3.8.3->langchain) (1.9.4)\n",
      "Requirement already satisfied: idna>=2.8 in /Users/williamzebrowski/Library/Mobile Documents/com~apple~CloudDocs/transform_llm/.venv/lib/python3.11/site-packages (from anyio<5,>=3.5.0->groq) (3.7)\n",
      "Requirement already satisfied: botocore<1.35.0,>=1.34.140 in /Users/williamzebrowski/Library/Mobile Documents/com~apple~CloudDocs/transform_llm/.venv/lib/python3.11/site-packages (from boto3<2.0.0,>=1.34.0->cohere) (1.34.140)\n",
      "Requirement already satisfied: jmespath<2.0.0,>=0.7.1 in /Users/williamzebrowski/Library/Mobile Documents/com~apple~CloudDocs/transform_llm/.venv/lib/python3.11/site-packages (from boto3<2.0.0,>=1.34.0->cohere) (1.0.1)\n",
      "Requirement already satisfied: s3transfer<0.11.0,>=0.10.0 in /Users/williamzebrowski/Library/Mobile Documents/com~apple~CloudDocs/transform_llm/.venv/lib/python3.11/site-packages (from boto3<2.0.0,>=1.34.0->cohere) (0.10.2)\n",
      "Requirement already satisfied: marshmallow<4.0.0,>=3.18.0 in /Users/williamzebrowski/Library/Mobile Documents/com~apple~CloudDocs/transform_llm/.venv/lib/python3.11/site-packages (from dataclasses-json<0.7,>=0.5.7->langchain_community) (3.21.3)\n",
      "Requirement already satisfied: typing-inspect<1,>=0.4.0 in /Users/williamzebrowski/Library/Mobile Documents/com~apple~CloudDocs/transform_llm/.venv/lib/python3.11/site-packages (from dataclasses-json<0.7,>=0.5.7->langchain_community) (0.9.0)\n",
      "Requirement already satisfied: httpcore==1.* in /Users/williamzebrowski/Library/Mobile Documents/com~apple~CloudDocs/transform_llm/.venv/lib/python3.11/site-packages (from httpx<1,>=0.23.0->groq) (1.0.5)\n",
      "Requirement already satisfied: h11<0.15,>=0.13 in /Users/williamzebrowski/Library/Mobile Documents/com~apple~CloudDocs/transform_llm/.venv/lib/python3.11/site-packages (from httpcore==1.*->httpx<1,>=0.23.0->groq) (0.14.0)\n",
      "Requirement already satisfied: jsonpatch<2.0,>=1.33 in /Users/williamzebrowski/Library/Mobile Documents/com~apple~CloudDocs/transform_llm/.venv/lib/python3.11/site-packages (from langchain-core<0.3.0,>=0.2.23->langchain) (1.33)\n",
      "Requirement already satisfied: packaging<25,>=23.2 in /Users/williamzebrowski/Library/Mobile Documents/com~apple~CloudDocs/transform_llm/.venv/lib/python3.11/site-packages (from langchain-core<0.3.0,>=0.2.23->langchain) (24.1)\n",
      "Requirement already satisfied: orjson<4.0.0,>=3.9.14 in /Users/williamzebrowski/Library/Mobile Documents/com~apple~CloudDocs/transform_llm/.venv/lib/python3.11/site-packages (from langsmith<0.2.0,>=0.1.17->langchain) (3.10.6)\n",
      "Requirement already satisfied: annotated-types>=0.4.0 in /Users/williamzebrowski/Library/Mobile Documents/com~apple~CloudDocs/transform_llm/.venv/lib/python3.11/site-packages (from pydantic<3,>=1.9.0->groq) (0.7.0)\n",
      "Requirement already satisfied: pydantic-core==2.20.1 in /Users/williamzebrowski/Library/Mobile Documents/com~apple~CloudDocs/transform_llm/.venv/lib/python3.11/site-packages (from pydantic<3,>=1.9.0->groq) (2.20.1)\n",
      "Requirement already satisfied: charset-normalizer<4,>=2 in /Users/williamzebrowski/Library/Mobile Documents/com~apple~CloudDocs/transform_llm/.venv/lib/python3.11/site-packages (from requests<3.0.0,>=2.0.0->cohere) (3.3.2)\n",
      "Requirement already satisfied: huggingface-hub<1.0,>=0.16.4 in /Users/williamzebrowski/Library/Mobile Documents/com~apple~CloudDocs/transform_llm/.venv/lib/python3.11/site-packages (from tokenizers<1,>=0.15->cohere) (0.23.4)\n",
      "Requirement already satisfied: python-dateutil<3.0.0,>=2.1 in /Users/williamzebrowski/Library/Mobile Documents/com~apple~CloudDocs/transform_llm/.venv/lib/python3.11/site-packages (from botocore<1.35.0,>=1.34.140->boto3<2.0.0,>=1.34.0->cohere) (2.9.0.post0)\n",
      "Requirement already satisfied: filelock in /Users/williamzebrowski/Library/Mobile Documents/com~apple~CloudDocs/transform_llm/.venv/lib/python3.11/site-packages (from huggingface-hub<1.0,>=0.16.4->tokenizers<1,>=0.15->cohere) (3.15.4)\n",
      "Requirement already satisfied: fsspec>=2023.5.0 in /Users/williamzebrowski/Library/Mobile Documents/com~apple~CloudDocs/transform_llm/.venv/lib/python3.11/site-packages (from huggingface-hub<1.0,>=0.16.4->tokenizers<1,>=0.15->cohere) (2024.5.0)\n",
      "Requirement already satisfied: jsonpointer>=1.9 in /Users/williamzebrowski/Library/Mobile Documents/com~apple~CloudDocs/transform_llm/.venv/lib/python3.11/site-packages (from jsonpatch<2.0,>=1.33->langchain-core<0.3.0,>=0.2.23->langchain) (3.0.0)\n",
      "Requirement already satisfied: mypy-extensions>=0.3.0 in /Users/williamzebrowski/Library/Mobile Documents/com~apple~CloudDocs/transform_llm/.venv/lib/python3.11/site-packages (from typing-inspect<1,>=0.4.0->dataclasses-json<0.7,>=0.5.7->langchain_community) (1.0.0)\n",
      "Requirement already satisfied: six>=1.5 in /Users/williamzebrowski/Library/Mobile Documents/com~apple~CloudDocs/transform_llm/.venv/lib/python3.11/site-packages (from python-dateutil<3.0.0,>=2.1->botocore<1.35.0,>=1.34.140->boto3<2.0.0,>=1.34.0->cohere) (1.16.0)\n",
      "\n",
      "\u001b[1m[\u001b[0m\u001b[34;49mnotice\u001b[0m\u001b[1;39;49m]\u001b[0m\u001b[39;49m A new release of pip is available: \u001b[0m\u001b[31;49m24.1.1\u001b[0m\u001b[39;49m -> \u001b[0m\u001b[32;49m24.1.2\u001b[0m\n",
      "\u001b[1m[\u001b[0m\u001b[34;49mnotice\u001b[0m\u001b[1;39;49m]\u001b[0m\u001b[39;49m To update, run: \u001b[0m\u001b[32;49mpip install --upgrade pip\u001b[0m\n"
     ]
    }
   ],
   "source": [
    "!pip install groq ollama cohere langchain pinecone-client PyPDF2 langchain_community langchain-groq python-dotenv"
   ]
  },
  {
   "cell_type": "markdown",
   "metadata": {},
   "source": [
    "Add your Environment Variables to hit the varietry of different API's\n",
    "\n",
    "- GROQ_API_KEY\n",
    "- PINECONE_API_KEY\n",
    "- COHERE_API_KEY"
   ]
  },
  {
   "cell_type": "code",
   "execution_count": 59,
   "metadata": {},
   "outputs": [],
   "source": [
    "import PyPDF2\n",
    "from langchain.text_splitter import RecursiveCharacterTextSplitter\n",
    "from langchain_community.embeddings import OllamaEmbeddings\n",
    "from langchain_groq import ChatGroq"
   ]
  },
  {
   "cell_type": "markdown",
   "metadata": {},
   "source": [
    "#### Setup Language Model with Groq\n",
    "\n",
    "Let's now set up the language model with Groq, Llama3 8 Billion Parameter"
   ]
  },
  {
   "cell_type": "code",
   "execution_count": 60,
   "metadata": {},
   "outputs": [],
   "source": [
    "# llm_local = ChatOllama(model=\"mistral:instruct\")\n",
    "from os import getenv\n",
    "from dotenv import load_dotenv\n",
    "load_dotenv()\n",
    "\n",
    "GROQ_API_KEY=getenv(\"GROQ_API_KEY\")\n",
    "\n",
    "llm_groq = ChatGroq(\n",
    "            groq_api_key=GROQ_API_KEY,\n",
    "        #     model_name='llama3:8b' \n",
    "            model_name='llama-3.1-8b-instant'\n",
    "            # model_name='mixtral-8x7b-32768'\n",
    "    )"
   ]
  },
  {
   "cell_type": "markdown",
   "metadata": {},
   "source": [
    "#### Read and Split PDF Text\n",
    "\n",
    "Reads text from a specified PDF file, concatenates it into a single string, and then splits the text into manageable chunks for processing."
   ]
  },
  {
   "cell_type": "code",
   "execution_count": 61,
   "metadata": {},
   "outputs": [
    {
     "data": {
      "text/plain": [
       "\"Two-step verification helps protect your account. When you log in, you'll be asked to provide a\\none-time code that you'll receive through email, text, or an authenticator app. If one of the methods\\nisn't working, try a different method. You'll also receive a backup code when you enable two-step\\nverification, which lets you access your account. If you don't have your backup code, contact the\\nFSA help center: https://studentaid.gov/help-center/contactIf you created an FSA ID with a SSN, it will take 1-3 days to be verified.\\nIf a parent/contributor created an FSA ID without an SSN and successfully answered the knowledge\\nbased identity questions, it can be used immediately. If unable to confirm identity, an email will be\\nsent with a case number and instructions to submit additional documents. Contributors can complete\""
      ]
     },
     "execution_count": 61,
     "metadata": {},
     "output_type": "execute_result"
    }
   ],
   "source": [
    "# Read the PDF file\n",
    "pdf = PyPDF2.PdfReader(\"/Users/williamzebrowski/Library/Mobile Documents/com~apple~CloudDocs/groq/data/Merged_Document.pdf\")\n",
    "pdf_text = \"\"\n",
    "for page in pdf.pages:\n",
    "    pdf_text += page.extract_text()\n",
    "\n",
    "# Split the text into chunks\n",
    "text_splitter = RecursiveCharacterTextSplitter(chunk_size=1000, chunk_overlap=100)\n",
    "texts = text_splitter.split_text(pdf_text)\n",
    "texts[0]"
   ]
  },
  {
   "cell_type": "markdown",
   "metadata": {},
   "source": [
    "#### Embed Documents with Ollama Embeddings\n",
    "\n",
    "Let's pull down a Ollama Embedding model.\n",
    "\n",
    "If you have ollama install, run this in your terminal:\n",
    "\n",
    "`ollama pull nomic-embed-text`"
   ]
  },
  {
   "cell_type": "code",
   "execution_count": 62,
   "metadata": {},
   "outputs": [],
   "source": [
    "embeddings = OllamaEmbeddings(model=\"nomic-embed-text\")\n",
    "\n",
    "r1 = embeddings.embed_documents(\n",
    "    texts\n",
    ")"
   ]
  },
  {
   "cell_type": "markdown",
   "metadata": {},
   "source": [
    "#### Pinecone Index Setup and Upsert\n",
    "\n",
    "Configures Pinecone for vector database operations, creates or connects to an index, and upserts document embeddings. Also defines a function to get query embeddings."
   ]
  },
  {
   "cell_type": "code",
   "execution_count": 63,
   "metadata": {},
   "outputs": [
    {
     "name": "stdout",
     "output_type": "stream",
     "text": [
      "done upserting...\n"
     ]
    }
   ],
   "source": [
    "from os import getenv\n",
    "from dotenv import load_dotenv\n",
    "load_dotenv()\n",
    "from pinecone import Pinecone\n",
    "\n",
    "PINECONE_API_KEY=getenv(\"PINECONE_API_KEY\")\n",
    "\n",
    "pc = Pinecone(api_key=PINECONE_API_KEY)\n",
    "\n",
    "index = pc.Index(\"ai-index\")\n",
    "\n",
    "for i in range(len(texts)):\n",
    "    index.upsert([((str(i),r1[i],{\"text\":texts[i]}))])\n",
    "    \n",
    "print(\"done upserting...\")\n",
    "\n",
    "def get_query_embdedding(text):\n",
    "    embedding=embeddings.embed_query(text)\n",
    "    return embedding"
   ]
  },
  {
   "cell_type": "markdown",
   "metadata": {},
   "source": [
    "#### Cohere Setup and Query Embedding\n",
    "\n",
    "Initializes the Cohere client with an API key, generates an embedding for a query, and performs a vector search in the Pinecone index to find similar documents"
   ]
  },
  {
   "cell_type": "code",
   "execution_count": 64,
   "metadata": {},
   "outputs": [
    {
     "name": "stdout",
     "output_type": "stream",
     "text": [
      "Result 0:\n",
      "Text: Two-step verification helps protect your account. When you log in, you'll be asked to provide a\n",
      "one-time code that you'll receive through email, text, or an authenticator app. If one of the methods\n",
      "isn't working, try a different method. You'll also receive a backup code when you enable two-step\n",
      "verification, which lets you access your account. If you don't have your backup code, contact the\n",
      "FSA help center: https://studentaid.gov/help-center/contactIf you created an FSA ID with a SSN, it will take 1-3 days to be verified.\n",
      "If a parent/contributor created an FSA ID without an SSN and successfully answered the knowledge\n",
      "based identity questions, it can be used immediately. If unable to confirm identity, an email will be\n",
      "sent with a case number and instructions to submit additional documents. Contributors can complete\n",
      "Score: 0.624541283\n",
      "\n",
      "Result 1:\n",
      "Text: If you entered an incorrect email, it's okay as long as the other items match. Once they log in with\n",
      "their FSA ID, they'll see the invite to your FAFSA.\n",
      "If your FAFSA was submitted with the wrong contributor, you can fix it once it processes by making\n",
      "a correction. It will need to be resubmitted with the new contributor's info.Verification is the process colleges use to confirm the information from your FAFSA. Schools may\n",
      "ask for documentation like tax forms, tax transcripts, and W-2s, which can be uploaded via a student\n",
      "portal, emailed or mailed depending on the school. Only provide copies and keep the originals in a\n",
      "safe place.\n",
      "You can check your FAFSA Submission Summary to see if you have been selected. If you have,\n",
      "you must complete verification to receive financial aid.Once your FAFSA is signed and submitted, you will see a confirmation page or email that will\n",
      "provide your SAI and estimated federal aid eligibility. To check the status of your FAFSA, go to the\n",
      "Score: 0.563922822\n",
      "\n",
      "Result 2:\n",
      "Text: Step 3: Log in!\n",
      "Once setup is complete, you can use your authenticator app to log in to StudentAid.gov.\n",
      " \n",
      "Alternative two-step veriﬁcation methods\n",
      "Alternatively, you can use the SMS text or email option to receive your authentication code. An email or mobile phone (for SMS text) must be veriﬁed in order to be used for two-step veriﬁcation.\n",
      "A StudentAid.gov account is locked after three unsuccessful attempts to log in.\n",
      "My account is locked\n",
      "If your account is locked, you’ll need to use your veriﬁed phone or email, authenticator app, or your challenge questions to unlock it.  If you use your challenge questions, for security purposes there’s a 30-minute timeout before you can log in again.\n",
      "Follow these steps to unlock your account:\n",
      "1.If you don’t know your account username or password: First, look up your username or reset your password.\n",
      "2.Attempt to log in. You’ll be redirected to a screen that says “Unlock Your FSA ID.”\n",
      "Score: 0.540476322\n",
      "\n",
      "Result 3:\n",
      "Text: •provide increased security, and\n",
      "•are generally faster than email or SMS text.\n",
      "Step 1: Install an authenticator app\n",
      "You can use an authenticator app already on your mobile phone, or you can download a new one from your mobile app store. Some popular options are Google Authenticator, Microsoft Authenticator, Authy, LastPass, and Duo Mobile.\n",
      "Step 2: Complete the app setup process\n",
      "Once you’ve installed an authenticator app, log in to your StudentAid.gov account. Select “Two-Step Veriﬁcation” in Settings, then select “Set Up an Authenticator App” and complete the process.\n",
      "While setting up, you’ll need to open your authenticator app and select the option to add an account (exact language will vary by app). You’ll be prompted to scan a QR code or enter a key in order to associate your authentication app with your StudentAid.gov account. To complete setup, you’ll enter the veriﬁcation code provided by your authentication app on StudentAid.gov.\n",
      " \n",
      "Step 3: Log in!\n",
      "Score: 0.534885705\n",
      "\n",
      "Result 4:\n",
      "Text: 2.Attempt to log in. You’ll be redirected to a screen that says “Unlock Your FSA ID.”\n",
      "3.Select a method (veriﬁed mobile phone or email) to get a secure code sent to you. If you previously set up an authenticator app, you can use that option as well. If you didn’t verify your email, provide a mobile phone number, or set up an authenticator app, you can use your challenge questions.\n",
      "4.Provide the month and date of your birth and select the “Continue” button. If you choose to use the authenticator app option, you won’t be asked for your date of birth.\n",
      "5.After entering your secure code or answering some of your challenge questions, you’ll be prompted to create a new password.\n",
      "I don’t remember my username or password\n",
      "Score: 0.528338373\n",
      "\n"
     ]
    }
   ],
   "source": [
    "import cohere\n",
    "from dotenv import load_dotenv\n",
    "load_dotenv()\n",
    "\n",
    "COHERE_API_KEY=getenv(\"COHERE_API_KEY\")\n",
    "# init client\n",
    "co = cohere.Client(COHERE_API_KEY)\n",
    "\n",
    "query=\"what is two step verification?\"\n",
    "\n",
    "question_embedding=get_query_embdedding(query)\n",
    "\n",
    "query_result = index.query(vector=question_embedding, top_k=5, include_metadata=True)\n",
    "similar_texts = []\n",
    "# Extract metadata from query result\n",
    "docs = {x[\"metadata\"]['text']: i for i, x in enumerate(query_result[\"matches\"])}\n",
    "\n",
    "# print out the top 5 results:\n",
    "for i, match in enumerate(query_result[\"matches\"], start=0):\n",
    "    text = match[\"metadata\"][\"text\"]\n",
    "    score = match[\"score\"]  # Assuming each match has a score attribute\n",
    "    print(f\"Result {i}:\")\n",
    "    print(f\"Text: {text}\")\n",
    "    print(f\"Score: {score}\\n\")\n"
   ]
  },
  {
   "cell_type": "markdown",
   "metadata": {},
   "source": [
    "Initializes the Cohere client with an API key, generates an embedding for a query, and performs a vector search in the Pinecone index to find similar documents."
   ]
  },
  {
   "cell_type": "markdown",
   "metadata": {},
   "source": [
    "#### Document Re-ranking with Cohere\n",
    "\n",
    "Uses Cohere's re-ranking model to refine the search results based on relevance to the query, then prepares a template for generating a summary."
   ]
  },
  {
   "cell_type": "code",
   "execution_count": 67,
   "metadata": {},
   "outputs": [
    {
     "name": "stdout",
     "output_type": "stream",
     "text": [
      "rerank_docs... id='a658a3d6-626d-4d7c-987d-17ed62fc8735' results=[RerankResponseResultsItem(document=RerankResponseResultsItemDocument(text=\"Two-step verification helps protect your account. When you log in, you'll be asked to provide a\\none-time code that you'll receive through email, text, or an authenticator app. If one of the methods\\nisn't working, try a different method. You'll also receive a backup code when you enable two-step\\nverification, which lets you access your account. If you don't have your backup code, contact the\\nFSA help center: https://studentaid.gov/help-center/contactIf you created an FSA ID with a SSN, it will take 1-3 days to be verified.\\nIf a parent/contributor created an FSA ID without an SSN and successfully answered the knowledge\\nbased identity questions, it can be used immediately. If unable to confirm identity, an email will be\\nsent with a case number and instructions to submit additional documents. Contributors can complete\"), index=0, relevance_score=0.9987157), RerankResponseResultsItem(document=RerankResponseResultsItemDocument(text='•provide increased security, and\\n•are generally faster than email or SMS text.\\nStep 1: Install an authenticator app\\nYou can use an authenticator app already on your mobile phone, or you can download a new one from your mobile app store. Some popular options are Google Authenticator, Microsoft Authenticator, Authy, LastPass, and Duo Mobile.\\nStep 2: Complete the app setup process\\nOnce you’ve installed an authenticator app, log in to your StudentAid.gov account. Select “Two-Step Veriﬁcation” in Settings, then select “Set Up an Authenticator App” and complete the process.\\nWhile setting up, you’ll need to open your authenticator app and select the option to add an account (exact language will vary by app). You’ll be prompted to scan a QR code or enter a key in order to associate your authentication app with your StudentAid.gov account. To complete setup, you’ll enter the veriﬁcation code provided by your authentication app on StudentAid.gov.\\n\\xa0\\nStep 3: Log in!'), index=3, relevance_score=0.96295285), RerankResponseResultsItem(document=RerankResponseResultsItemDocument(text='Step 3: Log in!\\nOnce setup is complete, you can use your authenticator app to log in to StudentAid.gov.\\n\\xa0\\nAlternative two-step veriﬁcation methods\\nAlternatively, you can use the SMS text or email option to receive your authentication code. An email or mobile phone (for SMS text) must be veriﬁed in order to be used for two-step veriﬁcation.\\nA\\xa0StudentAid.gov\\xa0account is locked after three unsuccessful attempts to log in.\\nMy account is locked\\nIf your account is locked, you’ll need to use your veriﬁed phone or email, authenticator app, or your challenge questions to unlock it.\\xa0 If you use your challenge questions, for security purposes there’s a 30-minute timeout before you can log in again.\\nFollow these steps to unlock your account:\\n1.If you don’t know your account username or password: First, look up your\\xa0username\\xa0or reset your\\xa0password.\\n2.Attempt to\\xa0log in. You’ll be redirected to a screen that says “Unlock Your FSA ID.”'), index=2, relevance_score=0.85729086), RerankResponseResultsItem(document=RerankResponseResultsItemDocument(text='2.Attempt to\\xa0log in. You’ll be redirected to a screen that says “Unlock Your FSA ID.”\\n3.Select a method (veriﬁed mobile phone or email) to get a secure code sent to you. If you previously set up an authenticator app, you can use that option as well. If you didn’t verify your email, provide a mobile phone number, or set up an authenticator app, you can use your challenge questions.\\n4.Provide the month and date of your birth and select the “Continue” button. If you choose to use the authenticator app option, you won’t be asked for your date of birth.\\n5.After entering your secure code or answering some of your challenge questions, you’ll be prompted to create a new password.\\nI don’t remember my username or password'), index=4, relevance_score=0.013376603), RerankResponseResultsItem(document=RerankResponseResultsItemDocument(text=\"If you entered an incorrect email, it's okay as long as the other items match. Once they log in with\\ntheir FSA ID, they'll see the invite to your FAFSA.\\nIf your FAFSA was submitted with the wrong contributor, you can fix it once it processes by making\\na correction. It will need to be resubmitted with the new contributor's info.Verification is the process colleges use to confirm the information from your FAFSA. Schools may\\nask for documentation like tax forms, tax transcripts, and W-2s, which can be uploaded via a student\\nportal, emailed or mailed depending on the school. Only provide copies and keep the originals in a\\nsafe place.\\nYou can check your FAFSA Submission Summary to see if you have been selected. If you have,\\nyou must complete verification to receive financial aid.Once your FAFSA is signed and submitted, you will see a confirmation page or email that will\\nprovide your SAI and estimated federal aid eligibility. To check the status of your FAFSA, go to the\"), index=1, relevance_score=0.00072932884)] meta=ApiMeta(api_version=ApiMetaApiVersion(version='1', is_deprecated=None, is_experimental=None), billed_units=ApiMetaBilledUnits(input_tokens=None, output_tokens=None, search_units=1, classifications=None), tokens=None, warnings=None)\n",
      "Based on the following context : Two-step verification helps protect your account. When you log in, you'll be asked to provide a\n",
      "one-time code that you'll receive through email, text, or an authenticator app. If one of the methods\n",
      "isn't working, try a different method. You'll also receive a backup code when you enable two-step\n",
      "verification, which lets you access your account. If you don't have your backup code, contact the\n",
      "FSA help center: https://studentaid.gov/help-center/contactIf you created an FSA ID with a SSN, it will take 1-3 days to be verified.\n",
      "If a parent/contributor created an FSA ID without an SSN and successfully answered the knowledge\n",
      "based identity questions, it can be used immediately. If unable to confirm identity, an email will be\n",
      "sent with a case number and instructions to submit additional documents. Contributors can complete •provide increased security, and\n",
      "•are generally faster than email or SMS text.\n",
      "Step 1: Install an authenticator app\n",
      "You can use an authenticator app already on your mobile phone, or you can download a new one from your mobile app store. Some popular options are Google Authenticator, Microsoft Authenticator, Authy, LastPass, and Duo Mobile.\n",
      "Step 2: Complete the app setup process\n",
      "Once you’ve installed an authenticator app, log in to your StudentAid.gov account. Select “Two-Step Veriﬁcation” in Settings, then select “Set Up an Authenticator App” and complete the process.\n",
      "While setting up, you’ll need to open your authenticator app and select the option to add an account (exact language will vary by app). You’ll be prompted to scan a QR code or enter a key in order to associate your authentication app with your StudentAid.gov account. To complete setup, you’ll enter the veriﬁcation code provided by your authentication app on StudentAid.gov.\n",
      " \n",
      "Step 3: Log in! Step 3: Log in!\n",
      "Once setup is complete, you can use your authenticator app to log in to StudentAid.gov.\n",
      " \n",
      "Alternative two-step veriﬁcation methods\n",
      "Alternatively, you can use the SMS text or email option to receive your authentication code. An email or mobile phone (for SMS text) must be veriﬁed in order to be used for two-step veriﬁcation.\n",
      "A StudentAid.gov account is locked after three unsuccessful attempts to log in.\n",
      "My account is locked\n",
      "If your account is locked, you’ll need to use your veriﬁed phone or email, authenticator app, or your challenge questions to unlock it.  If you use your challenge questions, for security purposes there’s a 30-minute timeout before you can log in again.\n",
      "Follow these steps to unlock your account:\n",
      "1.If you don’t know your account username or password: First, look up your username or reset your password.\n",
      "2.Attempt to log in. You’ll be redirected to a screen that says “Unlock Your FSA ID.” 2.Attempt to log in. You’ll be redirected to a screen that says “Unlock Your FSA ID.”\n",
      "3.Select a method (veriﬁed mobile phone or email) to get a secure code sent to you. If you previously set up an authenticator app, you can use that option as well. If you didn’t verify your email, provide a mobile phone number, or set up an authenticator app, you can use your challenge questions.\n",
      "4.Provide the month and date of your birth and select the “Continue” button. If you choose to use the authenticator app option, you won’t be asked for your date of birth.\n",
      "5.After entering your secure code or answering some of your challenge questions, you’ll be prompted to create a new password.\n",
      "I don’t remember my username or password If you entered an incorrect email, it's okay as long as the other items match. Once they log in with\n",
      "their FSA ID, they'll see the invite to your FAFSA.\n",
      "If your FAFSA was submitted with the wrong contributor, you can fix it once it processes by making\n",
      "a correction. It will need to be resubmitted with the new contributor's info.Verification is the process colleges use to confirm the information from your FAFSA. Schools may\n",
      "ask for documentation like tax forms, tax transcripts, and W-2s, which can be uploaded via a student\n",
      "portal, emailed or mailed depending on the school. Only provide copies and keep the originals in a\n",
      "safe place.\n",
      "You can check your FAFSA Submission Summary to see if you have been selected. If you have,\n",
      "you must complete verification to receive financial aid.Once your FAFSA is signed and submitted, you will see a confirmation page or email that will\n",
      "provide your SAI and estimated federal aid eligibility. To check the status of your FAFSA, go to the generate precise summary related to question : what is two step verification? Do not remove necessary information related to context. Consider `\n",
      "` as newline character.\n"
     ]
    }
   ],
   "source": [
    "# Rerank the documents\n",
    "rerank_docs = co.rerank(\n",
    "    model=\"rerank-english-v3.0\",\n",
    "    query=query, \n",
    "    documents=list(docs.keys()), \n",
    "    top_n=5, \n",
    "    return_documents=True\n",
    ")\n",
    "print(\"rerank_docs...\",rerank_docs)\n",
    "\n",
    "# Extract reranked documents\n",
    "reranked_texts = [doc.document.text for doc in rerank_docs.results]\n",
    "\n",
    "context=\" \".join(reranked_texts)\n",
    "\n",
    "Template = f\"Based on the following context : {context} generate precise summary related to question : {query} Do not remove necessary information related to context. Consider `\\n` as newline character.\"  \n",
    "# Filling the template with the actual context and question.\n",
    "filled_template = Template.format(context=context, question=query)\n",
    "\n",
    "print(filled_template)\n"
   ]
  },
  {
   "cell_type": "markdown",
   "metadata": {},
   "source": [
    "Uses Cohere's re-ranking model to refine the search results based on relevance to the query, then prepares a template for generating a summary."
   ]
  },
  {
   "cell_type": "markdown",
   "metadata": {},
   "source": [
    "#### Generate Summary with Groq\n",
    "\n",
    "Configures the Groq client, sends the filled template to the chat model for processing, and prints the generated summary based on the context and query provided."
   ]
  },
  {
   "cell_type": "code",
   "execution_count": 68,
   "metadata": {},
   "outputs": [
    {
     "name": "stdout",
     "output_type": "stream",
     "text": [
      "Based on the context provided, two-step verification is a security feature that helps protect online accounts by requiring two separate forms of verification to access the account.\n",
      "\n",
      "Two-step verification helps protect your account. When you log in, you'll be asked to provide a one-time code that you'll receive through email, text, or an authenticator app. This requires you to use a second form of verification, in addition to your regular login credentials.\n",
      "\n",
      "The benefits of two-step verification include:\n",
      "\n",
      "• Increased security: Two-step verification makes it harder for hackers to gain access to your account, even if they know your login credentials.\n",
      "\n",
      "• Faster access: Two-step verification methods like authenticator apps are generally faster than email or SMS text.\n",
      "\n",
      "Two-step verification can be set up using an authenticator app, such as Google Authenticator, Microsoft Authenticator, Authy, LastPass, or Duo Mobile. Alternatively, you can use SMS text or email to receive your authentication code.\n",
      "\n",
      "If you need to access your account and one of the two-step verification methods isn't working, try a different method. You can also use a backup code to access your account, but if you don't have your backup code, you can contact the FSA help center for assistance.\n",
      "\n",
      "Two-step verification is required to protect online accounts, such as StudentAid.gov accounts, and helps to prevent account lockouts that can occur after three unsuccessful attempts to log in.\n"
     ]
    }
   ],
   "source": [
    "from os import getenv\n",
    "from groq import Groq\n",
    "from dotenv import load_dotenv\n",
    "load_dotenv()\n",
    "\n",
    "GROQ_API_KEY=getenv(\"GROQ_API_KEY\")\n",
    "\n",
    "client = Groq(\n",
    "    api_key=GROQ_API_KEY ,\n",
    ")\n",
    "\n",
    "chat_completion = client.chat.completions.create(\n",
    "    messages=[\n",
    "        {\n",
    "            \"role\": \"user\",\n",
    "            \"content\": filled_template,\n",
    "        }\n",
    "    ],\n",
    "    model=\"llama-3.1-8b-instant\",\n",
    ")\n",
    "\n",
    "print(chat_completion.choices[0].message.content)"
   ]
  },
  {
   "cell_type": "markdown",
   "metadata": {},
   "source": [
    "# Conclusion\n",
    "\n",
    "In this notebook, we successfully demonstrated the advanced implementation of the Retrieval-Augmented Generation (RAG) technique, complemented by document re-ranking, to generate precise summaries from a given query. Through the integration of cutting-edge technologies and platforms such as Groq, Ollama, Pinecone, and Cohere, we showcased a sophisticated system capable of enhancing information retrieval and summarization tasks.\n",
    "\n",
    "Key takeaways include:\n",
    "- The ability to process and split PDF text into manageable chunks for further analysis.\n",
    "- The use of Ollama embeddings to convert text chunks into vector representations, facilitating efficient document retrieval.\n",
    "- The application of Pinecone's vector database for storing and querying document embeddings, enabling fast and scalable searches.\n",
    "- The implementation of Cohere's re-ranking model to refine search results, ensuring the selection of the most relevant documents.\n",
    "- The generation of comprehensive summaries using the Groq language model, based on the context provided by re-ranked documents.\n",
    "\n",
    "This notebook not only serves as a practical guide to implementing a RAG system with re-ranking but also illustrates the power of combining multiple AI and NLP technologies to solve complex problems in information retrieval and summarization. We hope this demonstration inspires further exploration and development of advanced NLP applications."
   ]
  },
  {
   "cell_type": "markdown",
   "metadata": {},
   "source": []
  }
 ],
 "metadata": {
  "kernelspec": {
   "display_name": ".venv",
   "language": "python",
   "name": "python3"
  },
  "language_info": {
   "codemirror_mode": {
    "name": "ipython",
    "version": 3
   },
   "file_extension": ".py",
   "mimetype": "text/x-python",
   "name": "python",
   "nbconvert_exporter": "python",
   "pygments_lexer": "ipython3",
   "version": "3.11.7"
  }
 },
 "nbformat": 4,
 "nbformat_minor": 2
}
