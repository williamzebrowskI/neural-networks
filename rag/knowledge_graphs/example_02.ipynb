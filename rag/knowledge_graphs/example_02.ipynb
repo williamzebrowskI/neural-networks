{
 "cells": [
  {
   "cell_type": "code",
   "execution_count": 43,
   "metadata": {},
   "outputs": [
    {
     "name": "stdout",
     "output_type": "stream",
     "text": [
      "Note: you may need to restart the kernel to use updated packages.\n"
     ]
    }
   ],
   "source": [
    "%pip install --upgrade --quiet langchain langchain-community langchain-openai langchain-experimental neo4j tiktoken python-dotenv"
   ]
  },
  {
   "cell_type": "code",
   "execution_count": 49,
   "metadata": {},
   "outputs": [
    {
     "name": "stdout",
     "output_type": "stream",
     "text": [
      "Requirement already satisfied: pymupdf in /Users/williamzebrowski/Library/Mobile Documents/com~apple~CloudDocs/transform_llm/.venv/lib/python3.9/site-packages (1.24.9)\n",
      "Requirement already satisfied: PyMuPDFb==1.24.9 in /Users/williamzebrowski/Library/Mobile Documents/com~apple~CloudDocs/transform_llm/.venv/lib/python3.9/site-packages (from pymupdf) (1.24.9)\n"
     ]
    }
   ],
   "source": [
    "!pip install --upgrade pymupdf"
   ]
  },
  {
   "cell_type": "code",
   "execution_count": 50,
   "metadata": {},
   "outputs": [],
   "source": [
    "from langchain_core.runnables import (\n",
    "    RunnableBranch,\n",
    "    RunnableLambda,\n",
    "    RunnableParallel,\n",
    "    RunnablePassthrough,\n",
    ")\n",
    "from langchain_core.prompts import ChatPromptTemplate\n",
    "from langchain_core.prompts.prompt import PromptTemplate\n",
    "from langchain_core.pydantic_v1 import BaseModel, Field\n",
    "from typing import Tuple, List\n",
    "from langchain_core.messages import AIMessage, HumanMessage\n",
    "from langchain_core.output_parsers import StrOutputParser\n",
    "from langchain_community.graphs import Neo4jGraph\n",
    "from langchain_community.document_loaders import PyMuPDFLoader, PyPDFLoader, OnlinePDFLoader, PyPDFium2Loader, PDFMinerLoader\n",
    "from langchain.text_splitter import TokenTextSplitter\n",
    "from langchain_openai import ChatOpenAI\n",
    "from langchain_experimental.graph_transformers import LLMGraphTransformer\n",
    "from neo4j import GraphDatabase\n",
    "from langchain_community.vectorstores import Neo4jVector\n",
    "from langchain_openai import OpenAIEmbeddings\n",
    "from langchain_community.vectorstores.neo4j_vector import remove_lucene_chars\n",
    "from langchain_core.runnables import ConfigurableField, RunnableParallel, RunnablePassthrough"
   ]
  },
  {
   "cell_type": "code",
   "execution_count": 122,
   "metadata": {},
   "outputs": [],
   "source": [
    "import os\n",
    "from dotenv import load_dotenv\n",
    "load_dotenv()\n",
    "\n",
    "os.environ[\"NEO4J_URI\"] = \"neo4j://localhost:7687\"\n",
    "os.environ[\"NEO4J_USERNAME\"] = \"neo4j\"\n",
    "os.environ[\"NEO4J_PASSWORD\"] = \"Willthe1!\"\n",
    "os.environ['OPENAI_API_KEY']\n",
    "\n",
    "graph = Neo4jGraph()"
   ]
  },
  {
   "cell_type": "markdown",
   "metadata": {},
   "source": [
    "# Data Ingestion"
   ]
  },
  {
   "cell_type": "code",
   "execution_count": 72,
   "metadata": {},
   "outputs": [],
   "source": [
    "# raw_documents = PyMuPDFLoader('/Users/williamzebrowski/Library/Mobile Documents/com~apple~CloudDocs/transform_llm/rag/AIAYN.pdf')\n",
    "raw_documents = PyMuPDFLoader(\"wyatt.pdf\")\n",
    "\n",
    "# pages[0]"
   ]
  },
  {
   "cell_type": "code",
   "execution_count": 73,
   "metadata": {},
   "outputs": [],
   "source": [
    "data = raw_documents.load()"
   ]
  },
  {
   "cell_type": "code",
   "execution_count": 75,
   "metadata": {},
   "outputs": [
    {
     "data": {
      "text/plain": [
       "Document(metadata={'source': 'wyatt.pdf', 'file_path': 'wyatt.pdf', 'page': 3, 'total_pages': 174, 'format': 'PDF 1.3', 'title': '', 'author': '', 'subject': '', 'keywords': '', 'creator': '', 'producer': 'PyFPDF 1.7.2 http://pyfpdf.googlecode.com/', 'creationDate': 'D:20240605184108', 'modDate': '', 'trapped': ''}, page_content='Your information will remain completely confidential. I will not share your personal info, including\\nfinancial information, with any third party. This includes all information that you share with me over\\ntext. For more info, please see the Wyatt Terms & Conditions: http://getfafsahelp.org/terms\\n')"
      ]
     },
     "execution_count": 75,
     "metadata": {},
     "output_type": "execute_result"
    }
   ],
   "source": [
    "data[3]"
   ]
  },
  {
   "cell_type": "code",
   "execution_count": 107,
   "metadata": {},
   "outputs": [],
   "source": [
    "# Read the wikipedia article\n",
    "# raw_documents = WikipediaLoader(query=\"Elizabeth I\").load()\n",
    "# Define chunking strategy\n",
    "text_splitter = TokenTextSplitter(chunk_size=180, chunk_overlap=10)\n",
    "documents = text_splitter.split_documents(data)"
   ]
  },
  {
   "cell_type": "code",
   "execution_count": 108,
   "metadata": {},
   "outputs": [],
   "source": [
    "llm=ChatOpenAI(temperature=0, model_name=\"gpt-4o-mini\") # gpt-4-0125-preview occasionally has issues\n",
    "llm_transformer = LLMGraphTransformer(llm=llm)\n",
    "\n",
    "graph_documents = llm_transformer.convert_to_graph_documents(documents)\n",
    "graph.add_graph_documents(\n",
    "    graph_documents,\n",
    "    baseEntityLabel=True,\n",
    "    include_source=True\n",
    ")"
   ]
  },
  {
   "cell_type": "code",
   "execution_count": 111,
   "metadata": {},
   "outputs": [],
   "source": [
    "vector_index = Neo4jVector.from_existing_graph(\n",
    "    OpenAIEmbeddings(),\n",
    "    search_type=\"hybrid\",\n",
    "    node_label=\"Document\",\n",
    "    text_node_properties=[\"text\"],\n",
    "    embedding_node_property=\"embedding\"\n",
    ")"
   ]
  },
  {
   "cell_type": "code",
   "execution_count": 112,
   "metadata": {},
   "outputs": [],
   "source": [
    "# Retriever\n",
    "\n",
    "graph.query(\n",
    "    \"CREATE FULLTEXT INDEX entity IF NOT EXISTS FOR (e:__Entity__) ON EACH [e.id]\")\n",
    "\n",
    "# Extract entities from text\n",
    "class Entities(BaseModel):\n",
    "    \"\"\"Identifying information about entities.\"\"\"\n",
    "\n",
    "    names: List[str] = Field(\n",
    "        ...,\n",
    "        description=\"All the person, organization, or business entities that \"\n",
    "        \"appear in the text\",\n",
    "    )\n",
    "\n",
    "prompt = ChatPromptTemplate.from_messages(\n",
    "    [\n",
    "        (\n",
    "            \"system\",\n",
    "            \"You are extracting organization and person entities from the text.\",\n",
    "        ),\n",
    "        (\n",
    "            \"human\",\n",
    "            \"Use the given format to extract information from the following \"\n",
    "            \"input: {question}\",\n",
    "        ),\n",
    "    ]\n",
    ")\n",
    "\n",
    "entity_chain = prompt | llm.with_structured_output(Entities)"
   ]
  },
  {
   "cell_type": "code",
   "execution_count": 113,
   "metadata": {},
   "outputs": [
    {
     "data": {
      "text/plain": [
       "['fafsa']"
      ]
     },
     "execution_count": 113,
     "metadata": {},
     "output_type": "execute_result"
    }
   ],
   "source": [
    "entity_chain.invoke({\"question\": \"what is fafsa?\"}).names"
   ]
  },
  {
   "cell_type": "code",
   "execution_count": 114,
   "metadata": {},
   "outputs": [],
   "source": [
    "def generate_full_text_query(input: str) -> str:\n",
    "    \"\"\"\n",
    "    Generate a full-text search query for a given input string.\n",
    "\n",
    "    This function constructs a query string suitable for a full-text search.\n",
    "    It processes the input string by splitting it into words and appending a\n",
    "    similarity threshold (~2 changed characters) to each word, then combines\n",
    "    them using the AND operator. Useful for mapping entities from user questions\n",
    "    to database values, and allows for some misspelings.\n",
    "    \"\"\"\n",
    "    full_text_query = \"\"\n",
    "    words = [el for el in remove_lucene_chars(input).split() if el]\n",
    "    for word in words[:-1]:\n",
    "        full_text_query += f\" {word}~2 AND\"\n",
    "    full_text_query += f\" {words[-1]}~2\"\n",
    "    print(f'generate full text query: {full_text_query.strip()}')\n",
    "    return full_text_query.strip()\n",
    "\n",
    "# Fulltext index query\n",
    "def structured_retriever(question: str) -> str:\n",
    "    \"\"\"\n",
    "    Collects the neighborhood of entities mentioned\n",
    "    in the question\n",
    "    \"\"\"\n",
    "    result = \"\"\n",
    "    entities = entity_chain.invoke({\"question\": question})\n",
    "    for entity in entities.names:\n",
    "        response = graph.query(\n",
    "            \"\"\"CALL db.index.fulltext.queryNodes('entity', $query, {limit:2})\n",
    "            YIELD node,score\n",
    "            CALL {\n",
    "              WITH node\n",
    "              MATCH (node)-[r:!MENTIONS]->(neighbor)\n",
    "              RETURN node.id + ' - ' + type(r) + ' -> ' + neighbor.id AS output\n",
    "              UNION ALL\n",
    "              WITH node\n",
    "              MATCH (node)<-[r:!MENTIONS]-(neighbor)\n",
    "              RETURN neighbor.id + ' - ' + type(r) + ' -> ' +  node.id AS output\n",
    "            }\n",
    "            RETURN output LIMIT 50\n",
    "            \"\"\",\n",
    "            {\"query\": generate_full_text_query(entity)},\n",
    "        )\n",
    "        result += \"\\n\".join([el['output'] for el in response])\n",
    "        print(f\"structured_retriever result: {result}\")\n",
    "    return result"
   ]
  },
  {
   "cell_type": "code",
   "execution_count": 115,
   "metadata": {},
   "outputs": [
    {
     "name": "stdout",
     "output_type": "stream",
     "text": [
      "generate full text query: fafsa~2\n",
      "structured_retriever result: Fafsa - REQUIRES -> Fsa Id\n",
      "Fafsa - REQUIRES -> Consent\n",
      "Fafsa - REQUIRES -> Colleges\n",
      "Fafsa - REQUIRES -> Currency Conversion\n",
      "Fafsa - REQUIRES -> Section\n",
      "Fafsa - REQUIRES -> Contributor\n",
      "Fafsa - REQUIRES -> Parental_Info\n",
      "Fafsa - REQUIRES -> Homeless_Youth_Determination\n",
      "Fafsa - REQUIRES -> Bank Account Info\n",
      "Fafsa - REQUIRES -> Parent Info\n",
      "Fafsa - REQUIRES -> 2022 Tax Returns\n",
      "Fafsa - CONTAINS -> Financial_Questions\n",
      "Fafsa - QUALIFIES_FOR -> Federal Financial Aid\n",
      "Fafsa - USES -> Assets\n",
      "Fafsa - USES -> Income\n",
      "Fafsa - LINKS_TO -> Video\n",
      "Fafsa - GENERATES -> Fafsa Submission Summary\n",
      "Fafsa - GENERATES -> Confirmation Email\n",
      "Fafsa - DETERMINES -> State Aid\n",
      "Fafsa - ASSESSES -> Federal Aid\n",
      "Fafsa - HELPS_PAY_FOR -> College\n",
      "Fafsa - HELPS_PAY_FOR -> University\n",
      "Fafsa - HELPS_GET -> Financial Aid\n",
      "Fafsa - DEPENDENT_ON -> State Financial Aid\n",
      "Fafsa - APPLICATION_PROCESS -> Colleges\n",
      "Fafsa - SUBMITS -> Deadline\n",
      "Fafsa - HAS -> Mailing Address\n",
      "Fafsa - DOES_NOT_AUTOMATICALLY_LEAD_TO -> Debt\n",
      "Fafsa - CHECKLIST -> Uaspire.Org\n",
      "Fafsa - UNDERGONE_CHANGE -> Federal Legislation\n",
      "Fafsa - BENEFITS -> Families\n",
      "Fafsa - BENEFITS -> Students\n",
      "Fafsa - INCLUDES -> Website\n",
      "Fafsa - INCLUDES -> Student Aid Index\n",
      "Fafsa - INCLUDES -> Parent\n",
      "Fafsa - INCLUDES -> Student\n",
      "Fafsa - INCLUDES -> Real Estate\n",
      "Fafsa - INCLUDES -> Savings And Checking Accounts\n",
      "Fafsa - INCLUDES -> Businesses\n",
      "Fafsa - INCLUDES -> Investment Accounts\n",
      "Fafsa - INCLUDES -> Farms\n",
      "Fafsa - INCLUDES -> Federal_Benefits\n",
      "Fafsa - INCLUDES -> Income\n",
      "Fafsa - INCLUDES -> Investments\n",
      "Fafsa - INCLUDES -> Fafsa Submission Summary\n",
      "Fafsa - INCLUDES -> Consent Process\n",
      "Fafsa - INCLUDES -> Parent(S) Or Spouses\n",
      "Fafsa - INCLUDES -> Tax Information\n",
      "Fafsa - REPLACES -> Student Aid Index (Sai)\n",
      "Fafsa - CAN_BE_FILLED_OUT_AT -> Https://Fafsa.Gov\n",
      "Fafsa - REQUIRES -> Fsa Id\n",
      "Fafsa - REQUIRES -> Consent\n",
      "Fafsa - REQUIRES -> Colleges\n",
      "Fafsa - REQUIRES -> Currency Conversion\n",
      "Fafsa - REQUIRES -> Section\n",
      "Fafsa - REQUIRES -> Contributor\n",
      "Fafsa - REQUIRES -> Parental_Info\n",
      "Fafsa - REQUIRES -> Homeless_Youth_Determination\n",
      "Fafsa - REQUIRES -> Bank Account Info\n",
      "Fafsa - REQUIRES -> Parent Info\n",
      "Fafsa - REQUIRES -> 2022 Tax Returns\n",
      "Fafsa - CONTAINS -> Financial_Questions\n",
      "Fafsa - QUALIFIES_FOR -> Federal Financial Aid\n",
      "Fafsa - USES -> Assets\n",
      "Fafsa - USES -> Income\n",
      "Fafsa - LINKS_TO -> Video\n",
      "Fafsa - GENERATES -> Fafsa Submission Summary\n",
      "Fafsa - GENERATES -> Confirmation Email\n",
      "Fafsa - DETERMINES -> State Aid\n",
      "Fafsa - ASSESSES -> Federal Aid\n",
      "Fafsa - HELPS_PAY_FOR -> College\n",
      "Fafsa - HELPS_PAY_FOR -> University\n",
      "Fafsa - HELPS_GET -> Financial Aid\n",
      "Fafsa - DEPENDENT_ON -> State Financial Aid\n",
      "Fafsa - APPLICATION_PROCESS -> Colleges\n",
      "Fafsa - SUBMITS -> Deadline\n",
      "Fafsa - HAS -> Mailing Address\n",
      "Fafsa - DOES_NOT_AUTOMATICALLY_LEAD_TO -> Debt\n",
      "Fafsa - CHECKLIST -> Uaspire.Org\n",
      "Fafsa - UNDERGONE_CHANGE -> Federal Legislation\n",
      "Fafsa - BENEFITS -> Families\n",
      "Fafsa - BENEFITS -> Students\n",
      "Fafsa - INCLUDES -> Website\n",
      "Fafsa - INCLUDES -> Student Aid Index\n",
      "Fafsa - INCLUDES -> Parent\n",
      "Fafsa - INCLUDES -> Student\n",
      "Fafsa - INCLUDES -> Real Estate\n",
      "Fafsa - INCLUDES -> Savings And Checking Accounts\n",
      "Fafsa - INCLUDES -> Businesses\n",
      "Fafsa - INCLUDES -> Investment Accounts\n",
      "Fafsa - INCLUDES -> Farms\n",
      "Fafsa - INCLUDES -> Federal_Benefits\n",
      "Fafsa - INCLUDES -> Income\n",
      "Fafsa - INCLUDES -> Investments\n",
      "Fafsa - INCLUDES -> Fafsa Submission Summary\n",
      "Fafsa - INCLUDES -> Consent Process\n",
      "Fafsa - INCLUDES -> Parent(S) Or Spouses\n",
      "Fafsa - INCLUDES -> Tax Information\n",
      "Fafsa - REPLACES -> Student Aid Index (Sai)\n",
      "Fafsa - CAN_BE_FILLED_OUT_AT -> Https://Fafsa.Gov\n"
     ]
    }
   ],
   "source": [
    "print(structured_retriever(\"What is fafsa?\"))"
   ]
  },
  {
   "cell_type": "code",
   "execution_count": 116,
   "metadata": {},
   "outputs": [],
   "source": [
    "def retriever(question: str):\n",
    "    print(f\"Search query: {question}\")\n",
    "    structured_data = structured_retriever(question)\n",
    "    unstructured_data = [el.page_content for el in vector_index.similarity_search(question)]\n",
    "    final_data = f\"\"\"Structured data:\n",
    "{structured_data}\n",
    "Unstructured data:\n",
    "{\"#Document \". join(unstructured_data)}\n",
    "    \"\"\"\n",
    "    return final_data"
   ]
  },
  {
   "cell_type": "code",
   "execution_count": 117,
   "metadata": {},
   "outputs": [],
   "source": [
    "# Condense a chat history and follow-up question into a standalone question\n",
    "_template = \"\"\"Given the following conversation and a follow up question, rephrase the follow up question to be a standalone question,\n",
    "in its original language.\n",
    "Chat History:\n",
    "{chat_history}\n",
    "Follow Up Input: {question}\n",
    "Standalone question:\"\"\"  # noqa: E501\n",
    "CONDENSE_QUESTION_PROMPT = PromptTemplate.from_template(_template)\n",
    "\n",
    "def _format_chat_history(chat_history: List[Tuple[str, str]]) -> List:\n",
    "    buffer = []\n",
    "    for human, ai in chat_history:\n",
    "        buffer.append(HumanMessage(content=human))\n",
    "        buffer.append(AIMessage(content=ai))\n",
    "    return buffer\n",
    "\n",
    "_search_query = RunnableBranch(\n",
    "    # If input includes chat_history, we condense it with the follow-up question\n",
    "    (\n",
    "        RunnableLambda(lambda x: bool(x.get(\"chat_history\"))).with_config(\n",
    "            run_name=\"HasChatHistoryCheck\"\n",
    "        ),  # Condense follow-up question and chat into a standalone_question\n",
    "        RunnablePassthrough.assign(\n",
    "            chat_history=lambda x: _format_chat_history(x[\"chat_history\"])\n",
    "        )\n",
    "        | CONDENSE_QUESTION_PROMPT\n",
    "        | ChatOpenAI(temperature=0)\n",
    "        | StrOutputParser(),\n",
    "    ),\n",
    "    # Else, we have no chat history, so just pass through the question\n",
    "    RunnableLambda(lambda x : x[\"question\"]),\n",
    ")"
   ]
  },
  {
   "cell_type": "code",
   "execution_count": 118,
   "metadata": {},
   "outputs": [],
   "source": [
    "template = \"\"\"Answer the question based only on the following context:\n",
    "{context}\n",
    "\n",
    "Question: {question}\n",
    "Use natural language and be concise.\n",
    "Answer:\"\"\"\n",
    "prompt = ChatPromptTemplate.from_template(template)\n",
    "\n",
    "chain = (\n",
    "    RunnableParallel(\n",
    "        {\n",
    "            \"context\": _search_query | retriever,\n",
    "            \"question\": RunnablePassthrough(),\n",
    "        }\n",
    "    )\n",
    "    | prompt\n",
    "    | llm\n",
    "    | StrOutputParser()\n",
    ")"
   ]
  },
  {
   "cell_type": "code",
   "execution_count": 119,
   "metadata": {},
   "outputs": [
    {
     "name": "stdout",
     "output_type": "stream",
     "text": [
      "Search query: What is fafsa?\n",
      "generate full text query: fafsa~2\n",
      "structured_retriever result: Fafsa - REQUIRES -> Fsa Id\n",
      "Fafsa - REQUIRES -> Consent\n",
      "Fafsa - REQUIRES -> Colleges\n",
      "Fafsa - REQUIRES -> Currency Conversion\n",
      "Fafsa - REQUIRES -> Section\n",
      "Fafsa - REQUIRES -> Contributor\n",
      "Fafsa - REQUIRES -> Parental_Info\n",
      "Fafsa - REQUIRES -> Homeless_Youth_Determination\n",
      "Fafsa - REQUIRES -> Bank Account Info\n",
      "Fafsa - REQUIRES -> Parent Info\n",
      "Fafsa - REQUIRES -> 2022 Tax Returns\n",
      "Fafsa - CONTAINS -> Financial_Questions\n",
      "Fafsa - QUALIFIES_FOR -> Federal Financial Aid\n",
      "Fafsa - USES -> Assets\n",
      "Fafsa - USES -> Income\n",
      "Fafsa - LINKS_TO -> Video\n",
      "Fafsa - GENERATES -> Fafsa Submission Summary\n",
      "Fafsa - GENERATES -> Confirmation Email\n",
      "Fafsa - DETERMINES -> State Aid\n",
      "Fafsa - ASSESSES -> Federal Aid\n",
      "Fafsa - HELPS_PAY_FOR -> College\n",
      "Fafsa - HELPS_PAY_FOR -> University\n",
      "Fafsa - HELPS_GET -> Financial Aid\n",
      "Fafsa - DEPENDENT_ON -> State Financial Aid\n",
      "Fafsa - APPLICATION_PROCESS -> Colleges\n",
      "Fafsa - SUBMITS -> Deadline\n",
      "Fafsa - HAS -> Mailing Address\n",
      "Fafsa - DOES_NOT_AUTOMATICALLY_LEAD_TO -> Debt\n",
      "Fafsa - CHECKLIST -> Uaspire.Org\n",
      "Fafsa - UNDERGONE_CHANGE -> Federal Legislation\n",
      "Fafsa - BENEFITS -> Families\n",
      "Fafsa - BENEFITS -> Students\n",
      "Fafsa - INCLUDES -> Website\n",
      "Fafsa - INCLUDES -> Student Aid Index\n",
      "Fafsa - INCLUDES -> Parent\n",
      "Fafsa - INCLUDES -> Student\n",
      "Fafsa - INCLUDES -> Real Estate\n",
      "Fafsa - INCLUDES -> Savings And Checking Accounts\n",
      "Fafsa - INCLUDES -> Businesses\n",
      "Fafsa - INCLUDES -> Investment Accounts\n",
      "Fafsa - INCLUDES -> Farms\n",
      "Fafsa - INCLUDES -> Federal_Benefits\n",
      "Fafsa - INCLUDES -> Income\n",
      "Fafsa - INCLUDES -> Investments\n",
      "Fafsa - INCLUDES -> Fafsa Submission Summary\n",
      "Fafsa - INCLUDES -> Consent Process\n",
      "Fafsa - INCLUDES -> Parent(S) Or Spouses\n",
      "Fafsa - INCLUDES -> Tax Information\n",
      "Fafsa - REPLACES -> Student Aid Index (Sai)\n",
      "Fafsa - CAN_BE_FILLED_OUT_AT -> Https://Fafsa.Gov\n"
     ]
    },
    {
     "data": {
      "text/plain": [
       "'FAFSA, or the Free Application for Federal Student Aid, is a form used to assess eligibility for federal financial aid, including grants, loans, and work-study programs for college students. It is managed by the Federal Student Aid office in the U.S. Department of Education and can be completed online for free at https://fafsa.gov.'"
      ]
     },
     "execution_count": 119,
     "metadata": {},
     "output_type": "execute_result"
    }
   ],
   "source": [
    "chain.invoke({\"question\": \"What is fafsa?\"})"
   ]
  },
  {
   "cell_type": "code",
   "execution_count": 94,
   "metadata": {},
   "outputs": [
    {
     "name": "stdout",
     "output_type": "stream",
     "text": [
      "Search query: Can you provide some links for FAFSA?\n",
      "generate full text query: FAFSA~2\n",
      "structured_retriever result: Fafsa - REQUIRES -> Fsa Id\n",
      "Fsa Id - LOG_IN_AT -> Https://Fafsa.Gov\n",
      "Fsa Id - VERIFICATION -> Ssn\n",
      "Parent/Contributor - COMPLETION -> Fafsa\n",
      "Fafsa - REQUIRES -> Fsa Id\n",
      "Parent/Contributor - CREATION -> Fsa Id\n"
     ]
    },
    {
     "data": {
      "text/plain": [
       "'Some FAFSA-related links are:\\n\\n1. To log in and manage your FSA ID: [https://fafsa.gov](https://fafsa.gov)\\n2. To estimate your financial aid eligibility: [https://studentaid.gov/aid-estimator/](https://studentaid.gov/aid-estimator/)'"
      ]
     },
     "execution_count": 94,
     "metadata": {},
     "output_type": "execute_result"
    }
   ],
   "source": [
    "chain.invoke(\n",
    "    {\n",
    "        \"question\": \"what are some fafsa links?\",\n",
    "        \"chat_history\": [(\"What is fafsa?\", \"FAFSA (Free Application for Federal Student Aid) is an application that requires an FSA ID for completion. \")],\n",
    "    }\n",
    ")"
   ]
  },
  {
   "cell_type": "code",
   "execution_count": 126,
   "metadata": {},
   "outputs": [
    {
     "name": "stdout",
     "output_type": "stream",
     "text": [
      "Search query: do i need my parents income information?\n",
      "generate full text query: parents~2\n",
      "structured_retriever result: Parents - APPLY_FOR -> Direct Unsubsidized Loan\n",
      "Parents - PAY_FOR -> College\n",
      "Parents - PROVIDE -> Aid Sources\n",
      "Parents - DOES_NOT_AFFECT -> Financial Aid Eligibility\n",
      "Parents - MUST_ENTER_INFORMATION -> Fafsa\n",
      "Parents - MUST_CREATE -> Fsa Id\n",
      "Parent'S Account - PROVIDE -> Month And Day Of Birth\n",
      "Parent'S Account - ANSWER -> Challenge Questions\n",
      "Parent'S Account - RECEIVE_CODE -> Email\n",
      "Parent'S Account - RESET -> Password\n",
      "Parent'S Account - RECEIVE_CODE -> Phone Number\n",
      "Parent'S Account - ACCESS -> Https://Fafsa.Gov\n",
      "Guidance - FOLLOW -> Parents\n",
      "Https://Studentaid.Gov/Help/Unlock-Fsa-Id - INSTRUCTIONS -> Parent'S Account\n"
     ]
    },
    {
     "data": {
      "text/plain": [
       "\"Yes, you will need your parents' income information if you are including their details on the FAFSA. However, if your parent consents to the IRS sharing their federal tax information, they won't need to answer questions about their income directly.\""
      ]
     },
     "execution_count": 126,
     "metadata": {},
     "output_type": "execute_result"
    }
   ],
   "source": [
    "chain.invoke({\"question\": \"do i need my parents income information?\"})"
   ]
  },
  {
   "cell_type": "code",
   "execution_count": null,
   "metadata": {},
   "outputs": [],
   "source": []
  }
 ],
 "metadata": {
  "kernelspec": {
   "display_name": ".venv",
   "language": "python",
   "name": "python3"
  },
  "language_info": {
   "codemirror_mode": {
    "name": "ipython",
    "version": 3
   },
   "file_extension": ".py",
   "mimetype": "text/x-python",
   "name": "python",
   "nbconvert_exporter": "python",
   "pygments_lexer": "ipython3",
   "version": "3.11.7"
  }
 },
 "nbformat": 4,
 "nbformat_minor": 2
}
