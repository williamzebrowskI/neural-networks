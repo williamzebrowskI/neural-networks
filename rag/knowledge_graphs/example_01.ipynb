{
 "cells": [
  {
   "cell_type": "code",
   "execution_count": 1,
   "metadata": {},
   "outputs": [
    {
     "name": "stdout",
     "output_type": "stream",
     "text": [
      "Note: you may need to restart the kernel to use updated packages.\n"
     ]
    }
   ],
   "source": [
    "%pip install --upgrade --quiet  langchain langchain-community langchain-openai langchain-experimental neo4j wikipedia tiktoken yfiles_jupyter_graphs"
   ]
  },
  {
   "cell_type": "code",
   "execution_count": 2,
   "metadata": {},
   "outputs": [],
   "source": [
    "from langchain_core.runnables import (\n",
    "    RunnableBranch,\n",
    "    RunnableLambda,\n",
    "    RunnableParallel,\n",
    "    RunnablePassthrough,\n",
    ")\n",
    "from langchain_core.prompts import ChatPromptTemplate\n",
    "from langchain_core.prompts.prompt import PromptTemplate\n",
    "from langchain_core.pydantic_v1 import BaseModel, Field\n",
    "from typing import Tuple, List, Optional\n",
    "from langchain_core.messages import AIMessage, HumanMessage\n",
    "from langchain_core.output_parsers import StrOutputParser\n",
    "import os\n",
    "from langchain_community.graphs import Neo4jGraph\n",
    "from langchain.document_loaders import WikipediaLoader\n",
    "from langchain.text_splitter import TokenTextSplitter\n",
    "from langchain_openai import ChatOpenAI\n",
    "from langchain_experimental.graph_transformers import LLMGraphTransformer\n",
    "from neo4j import GraphDatabase\n",
    "from yfiles_jupyter_graphs import GraphWidget\n",
    "from langchain_community.vectorstores import Neo4jVector\n",
    "from langchain_openai import OpenAIEmbeddings\n",
    "from langchain_community.vectorstores.neo4j_vector import remove_lucene_chars\n",
    "from langchain_core.runnables import ConfigurableField, RunnableParallel, RunnablePassthrough\n",
    "\n",
    "try:\n",
    "  import google.colab\n",
    "  from google.colab import output\n",
    "  output.enable_custom_widget_manager()\n",
    "except:\n",
    "  pass"
   ]
  },
  {
   "cell_type": "code",
   "execution_count": 3,
   "metadata": {},
   "outputs": [],
   "source": [
    "import os\n",
    "from dotenv import load_dotenv\n",
    "load_dotenv()\n",
    "\n",
    "os.environ[\"NEO4J_URI\"] = \"neo4j://localhost:7687\"\n",
    "os.environ[\"NEO4J_USERNAME\"] = \"neo4j\"\n",
    "os.environ[\"NEO4J_PASSWORD\"] = \"Willthe1!\"\n",
    "os.environ['OPENAI_API_KEY']\n",
    "\n",
    "graph = Neo4jGraph()"
   ]
  },
  {
   "cell_type": "markdown",
   "metadata": {},
   "source": [
    "# Data Ingestion"
   ]
  },
  {
   "cell_type": "code",
   "execution_count": 5,
   "metadata": {},
   "outputs": [
    {
     "name": "stderr",
     "output_type": "stream",
     "text": [
      "/Users/williamzebrowski/Library/Mobile Documents/com~apple~CloudDocs/transform_llm/.venv/lib/python3.11/site-packages/wikipedia/wikipedia.py:389: GuessedAtParserWarning: No parser was explicitly specified, so I'm using the best available HTML parser for this system (\"html.parser\"). This usually isn't a problem, but if you run this code on another system, or in a different virtual environment, it may use a different parser and behave differently.\n",
      "\n",
      "The code that caused this warning is on line 389 of the file /Users/williamzebrowski/Library/Mobile Documents/com~apple~CloudDocs/transform_llm/.venv/lib/python3.11/site-packages/wikipedia/wikipedia.py. To get rid of this warning, pass the additional argument 'features=\"html.parser\"' to the BeautifulSoup constructor.\n",
      "\n",
      "  lis = BeautifulSoup(html).find_all('li')\n"
     ]
    }
   ],
   "source": [
    "# Read the wikipedia article\n",
    "raw_documents = WikipediaLoader(query=\"Elizabeth I\").load()\n",
    "# Define chunking strategy\n",
    "text_splitter = TokenTextSplitter(chunk_size=512, chunk_overlap=24)\n",
    "documents = text_splitter.split_documents(raw_documents[:3])\n",
    "\n"
   ]
  },
  {
   "cell_type": "code",
   "execution_count": 6,
   "metadata": {},
   "outputs": [],
   "source": [
    "llm=ChatOpenAI(temperature=0, model_name=\"gpt-4o\") # gpt-4-0125-preview occasionally has issues\n",
    "llm_transformer = LLMGraphTransformer(llm=llm)\n",
    "\n",
    "graph_documents = llm_transformer.convert_to_graph_documents(documents)\n",
    "graph.add_graph_documents(\n",
    "    graph_documents,\n",
    "    baseEntityLabel=True,\n",
    "    include_source=True\n",
    ")"
   ]
  },
  {
   "cell_type": "code",
   "execution_count": 19,
   "metadata": {},
   "outputs": [],
   "source": [
    "vector_index = Neo4jVector.from_existing_graph(\n",
    "    OpenAIEmbeddings(),\n",
    "    search_type=\"hybrid\",\n",
    "    node_label=\"Document\",\n",
    "    text_node_properties=[\"text\"],\n",
    "    embedding_node_property=\"embedding\"\n",
    ")"
   ]
  },
  {
   "cell_type": "code",
   "execution_count": 7,
   "metadata": {},
   "outputs": [],
   "source": [
    "# Retriever\n",
    "\n",
    "graph.query(\n",
    "    \"CREATE FULLTEXT INDEX entity IF NOT EXISTS FOR (e:__Entity__) ON EACH [e.id]\")\n",
    "\n",
    "# Extract entities from text\n",
    "class Entities(BaseModel):\n",
    "    \"\"\"Identifying information about entities.\"\"\"\n",
    "\n",
    "    names: List[str] = Field(\n",
    "        ...,\n",
    "        description=\"All the person, organization, or business entities that \"\n",
    "        \"appear in the text\",\n",
    "    )\n",
    "\n",
    "prompt = ChatPromptTemplate.from_messages(\n",
    "    [\n",
    "        (\n",
    "            \"system\",\n",
    "            \"You are extracting organization and person entities from the text.\",\n",
    "        ),\n",
    "        (\n",
    "            \"human\",\n",
    "            \"Use the given format to extract information from the following \"\n",
    "            \"input: {question}\",\n",
    "        ),\n",
    "    ]\n",
    ")\n",
    "\n",
    "entity_chain = prompt | llm.with_structured_output(Entities)"
   ]
  },
  {
   "cell_type": "code",
   "execution_count": 10,
   "metadata": {},
   "outputs": [
    {
     "data": {
      "text/plain": [
       "['Amelia Earhart']"
      ]
     },
     "execution_count": 10,
     "metadata": {},
     "output_type": "execute_result"
    }
   ],
   "source": [
    "entity_chain.invoke({\"question\": \"Where was Amelia Earhart born?\"}).names"
   ]
  },
  {
   "cell_type": "code",
   "execution_count": 13,
   "metadata": {},
   "outputs": [],
   "source": [
    "def generate_full_text_query(input: str) -> str:\n",
    "    \"\"\"\n",
    "    Generate a full-text search query for a given input string.\n",
    "\n",
    "    This function constructs a query string suitable for a full-text search.\n",
    "    It processes the input string by splitting it into words and appending a\n",
    "    similarity threshold (~2 changed characters) to each word, then combines\n",
    "    them using the AND operator. Useful for mapping entities from user questions\n",
    "    to database values, and allows for some misspelings.\n",
    "    \"\"\"\n",
    "    full_text_query = \"\"\n",
    "    words = [el for el in remove_lucene_chars(input).split() if el]\n",
    "    for word in words[:-1]:\n",
    "        full_text_query += f\" {word}~2 AND\"\n",
    "    full_text_query += f\" {words[-1]}~2\"\n",
    "    print(f'generate full text query: {full_text_query.strip()}')\n",
    "    return full_text_query.strip()\n",
    "\n",
    "# Fulltext index query\n",
    "def structured_retriever(question: str) -> str:\n",
    "    \"\"\"\n",
    "    Collects the neighborhood of entities mentioned\n",
    "    in the question\n",
    "    \"\"\"\n",
    "    result = \"\"\n",
    "    entities = entity_chain.invoke({\"question\": question})\n",
    "    for entity in entities.names:\n",
    "        response = graph.query(\n",
    "            \"\"\"CALL db.index.fulltext.queryNodes('entity', $query, {limit:2})\n",
    "            YIELD node,score\n",
    "            CALL {\n",
    "              WITH node\n",
    "              MATCH (node)-[r:!MENTIONS]->(neighbor)\n",
    "              RETURN node.id + ' - ' + type(r) + ' -> ' + neighbor.id AS output\n",
    "              UNION ALL\n",
    "              WITH node\n",
    "              MATCH (node)<-[r:!MENTIONS]-(neighbor)\n",
    "              RETURN neighbor.id + ' - ' + type(r) + ' -> ' +  node.id AS output\n",
    "            }\n",
    "            RETURN output LIMIT 50\n",
    "            \"\"\",\n",
    "            {\"query\": generate_full_text_query(entity)},\n",
    "        )\n",
    "        result += \"\\n\".join([el['output'] for el in response])\n",
    "        print(f\"structured_retriever result: {result}\")\n",
    "    return result"
   ]
  },
  {
   "cell_type": "code",
   "execution_count": 14,
   "metadata": {},
   "outputs": [
    {
     "name": "stdout",
     "output_type": "stream",
     "text": [
      "generate full text query: Elizabeth~2 AND I~2\n",
      "structured_retriever result: Elizabeth I - INTERACTED_WITH -> France\n",
      "Elizabeth I - INTERACTED_WITH -> Netherlands\n",
      "Elizabeth I - AIDED_BY -> Sir Francis Walsingham\n",
      "Elizabeth I - QUEEN_OF -> England\n",
      "Elizabeth I - SIBLING_OF -> Edward Vi\n",
      "Elizabeth I - SUCCEEDED_BY -> James Vi Of Scotland\n",
      "Elizabeth I - QUEEN_OF -> Ireland\n",
      "Elizabeth I - SUPREME_GOVERNOR_OF -> Church Of England\n",
      "Elizabeth I - ADVISED_BY -> William Cecil\n",
      "Elizabeth I - SIBLING_OF -> Mary I\n",
      "Elizabeth I - INTERACTED_WITH -> Spain\n",
      "Elizabeth I - PARTICIPANT -> Elizabethan Religious Settlement\n",
      "Elizabeth I - ADVISOR -> Sir Francis Walsingham\n",
      "Elizabeth I - SUCCESSOR -> James Vi Of Scotland\n",
      "Elizabeth I - SUPREME_GOVERNOR -> Church Of England\n",
      "Elizabeth I - ADVISOR -> William Cecil\n",
      "Elizabeth I - SIBLING -> Mary\n",
      "Elizabeth I - SIBLING -> Edward Vi\n",
      "Elizabeth I - CHILD_OF -> Anne Boleyn\n",
      "Elizabeth I - CHILD_OF -> Henry Viii\n",
      "Elizabeth I - MEMBER_OF -> House Of Tudor\n",
      "Elizabeth I - QUEEN -> Ireland\n",
      "Elizabeth I - QUEEN -> England\n",
      "Queen Elizabeth I - HEAD_OF -> Elizabethan Era\n",
      "Queen Elizabeth I - SAT_FOR -> Nicholas Hilliard\n",
      "Queen Elizabeth I - SPANS -> Early Modern Period\n",
      "Queen Elizabeth I - SAT_FOR -> Cornelis Ketel\n",
      "Queen Elizabeth I - SAT_FOR -> George Gower\n",
      "Queen Elizabeth I - SAT_FOR -> Federico Zuccaro\n",
      "Queen Elizabeth I - SPANS -> English Royal Portraits\n",
      "Queen Elizabeth I - SAT_FOR -> Isaac Oliver\n",
      "Queen Elizabeth I - SAT_FOR -> Marcus Gheeraerts The Younger\n",
      "George Gower - APPROVED_PORTRAITS -> Queen Elizabeth I\n",
      "Government - COMMISSIONED_PORTRAITS -> Queen Elizabeth I\n",
      "George Gower - SERJEANT_PAINTER -> Queen Elizabeth I\n",
      "Nicholas Hilliard - OFFICIAL_LIMMER -> Queen Elizabeth I\n",
      "Courtiers - COMMISSIONED_PAINTINGS -> Queen Elizabeth I\n",
      "Tudor Artists - PRODUCED_IMAGES -> Queen Elizabeth I\n",
      "George Gower - RESPONSIBLE_FOR_APPROVING_PORTRAITS_OF -> Queen Elizabeth I\n",
      "Portraits - CONTAIN -> Queen Elizabeth I\n",
      "Nicholas Hilliard - APPOINTED_BY -> Queen Elizabeth I\n",
      "Elizabeth I - INTERACTED_WITH -> France\n",
      "Elizabeth I - INTERACTED_WITH -> Netherlands\n",
      "Elizabeth I - AIDED_BY -> Sir Francis Walsingham\n",
      "Elizabeth I - QUEEN_OF -> England\n",
      "Elizabeth I - SIBLING_OF -> Edward Vi\n",
      "Elizabeth I - SUCCEEDED_BY -> James Vi Of Scotland\n",
      "Elizabeth I - QUEEN_OF -> Ireland\n",
      "Elizabeth I - SUPREME_GOVERNOR_OF -> Church Of England\n",
      "Elizabeth I - ADVISED_BY -> William Cecil\n",
      "Elizabeth I - SIBLING_OF -> Mary I\n",
      "Elizabeth I - INTERACTED_WITH -> Spain\n",
      "Elizabeth I - PARTICIPANT -> Elizabethan Religious Settlement\n",
      "Elizabeth I - ADVISOR -> Sir Francis Walsingham\n",
      "Elizabeth I - SUCCESSOR -> James Vi Of Scotland\n",
      "Elizabeth I - SUPREME_GOVERNOR -> Church Of England\n",
      "Elizabeth I - ADVISOR -> William Cecil\n",
      "Elizabeth I - SIBLING -> Mary\n",
      "Elizabeth I - SIBLING -> Edward Vi\n",
      "Elizabeth I - CHILD_OF -> Anne Boleyn\n",
      "Elizabeth I - CHILD_OF -> Henry Viii\n",
      "Elizabeth I - MEMBER_OF -> House Of Tudor\n",
      "Elizabeth I - QUEEN -> Ireland\n",
      "Elizabeth I - QUEEN -> England\n",
      "Queen Elizabeth I - HEAD_OF -> Elizabethan Era\n",
      "Queen Elizabeth I - SAT_FOR -> Nicholas Hilliard\n",
      "Queen Elizabeth I - SPANS -> Early Modern Period\n",
      "Queen Elizabeth I - SAT_FOR -> Cornelis Ketel\n",
      "Queen Elizabeth I - SAT_FOR -> George Gower\n",
      "Queen Elizabeth I - SAT_FOR -> Federico Zuccaro\n",
      "Queen Elizabeth I - SPANS -> English Royal Portraits\n",
      "Queen Elizabeth I - SAT_FOR -> Isaac Oliver\n",
      "Queen Elizabeth I - SAT_FOR -> Marcus Gheeraerts The Younger\n",
      "George Gower - APPROVED_PORTRAITS -> Queen Elizabeth I\n",
      "Government - COMMISSIONED_PORTRAITS -> Queen Elizabeth I\n",
      "George Gower - SERJEANT_PAINTER -> Queen Elizabeth I\n",
      "Nicholas Hilliard - OFFICIAL_LIMMER -> Queen Elizabeth I\n",
      "Courtiers - COMMISSIONED_PAINTINGS -> Queen Elizabeth I\n",
      "Tudor Artists - PRODUCED_IMAGES -> Queen Elizabeth I\n",
      "George Gower - RESPONSIBLE_FOR_APPROVING_PORTRAITS_OF -> Queen Elizabeth I\n",
      "Portraits - CONTAIN -> Queen Elizabeth I\n",
      "Nicholas Hilliard - APPOINTED_BY -> Queen Elizabeth I\n"
     ]
    }
   ],
   "source": [
    "print(structured_retriever(\"Who is Elizabeth I?\"))"
   ]
  },
  {
   "cell_type": "code",
   "execution_count": 15,
   "metadata": {},
   "outputs": [],
   "source": [
    "def retriever(question: str):\n",
    "    print(f\"Search query: {question}\")\n",
    "    structured_data = structured_retriever(question)\n",
    "    unstructured_data = [el.page_content for el in vector_index.similarity_search(question)]\n",
    "    final_data = f\"\"\"Structured data:\n",
    "{structured_data}\n",
    "Unstructured data:\n",
    "{\"#Document \". join(unstructured_data)}\n",
    "    \"\"\"\n",
    "    return final_data"
   ]
  },
  {
   "cell_type": "code",
   "execution_count": 16,
   "metadata": {},
   "outputs": [],
   "source": [
    "# Condense a chat history and follow-up question into a standalone question\n",
    "_template = \"\"\"Given the following conversation and a follow up question, rephrase the follow up question to be a standalone question,\n",
    "in its original language.\n",
    "Chat History:\n",
    "{chat_history}\n",
    "Follow Up Input: {question}\n",
    "Standalone question:\"\"\"  # noqa: E501\n",
    "CONDENSE_QUESTION_PROMPT = PromptTemplate.from_template(_template)\n",
    "\n",
    "def _format_chat_history(chat_history: List[Tuple[str, str]]) -> List:\n",
    "    buffer = []\n",
    "    for human, ai in chat_history:\n",
    "        buffer.append(HumanMessage(content=human))\n",
    "        buffer.append(AIMessage(content=ai))\n",
    "    return buffer\n",
    "\n",
    "_search_query = RunnableBranch(\n",
    "    # If input includes chat_history, we condense it with the follow-up question\n",
    "    (\n",
    "        RunnableLambda(lambda x: bool(x.get(\"chat_history\"))).with_config(\n",
    "            run_name=\"HasChatHistoryCheck\"\n",
    "        ),  # Condense follow-up question and chat into a standalone_question\n",
    "        RunnablePassthrough.assign(\n",
    "            chat_history=lambda x: _format_chat_history(x[\"chat_history\"])\n",
    "        )\n",
    "        | CONDENSE_QUESTION_PROMPT\n",
    "        | ChatOpenAI(temperature=0)\n",
    "        | StrOutputParser(),\n",
    "    ),\n",
    "    # Else, we have no chat history, so just pass through the question\n",
    "    RunnableLambda(lambda x : x[\"question\"]),\n",
    ")"
   ]
  },
  {
   "cell_type": "code",
   "execution_count": 17,
   "metadata": {},
   "outputs": [],
   "source": [
    "template = \"\"\"Answer the question based only on the following context:\n",
    "{context}\n",
    "\n",
    "Question: {question}\n",
    "Use natural language and be concise.\n",
    "Answer:\"\"\"\n",
    "prompt = ChatPromptTemplate.from_template(template)\n",
    "\n",
    "chain = (\n",
    "    RunnableParallel(\n",
    "        {\n",
    "            \"context\": _search_query | retriever,\n",
    "            \"question\": RunnablePassthrough(),\n",
    "        }\n",
    "    )\n",
    "    | prompt\n",
    "    | llm\n",
    "    | StrOutputParser()\n",
    ")"
   ]
  },
  {
   "cell_type": "code",
   "execution_count": 20,
   "metadata": {},
   "outputs": [
    {
     "name": "stdout",
     "output_type": "stream",
     "text": [
      "Search query: Which house did Elizabeth I belong to?\n",
      "generate full text query: Elizabeth~2 AND I~2\n",
      "structured_retriever result: Elizabeth I - INTERACTED_WITH -> France\n",
      "Elizabeth I - INTERACTED_WITH -> Netherlands\n",
      "Elizabeth I - AIDED_BY -> Sir Francis Walsingham\n",
      "Elizabeth I - QUEEN_OF -> England\n",
      "Elizabeth I - SIBLING_OF -> Edward Vi\n",
      "Elizabeth I - SUCCEEDED_BY -> James Vi Of Scotland\n",
      "Elizabeth I - QUEEN_OF -> Ireland\n",
      "Elizabeth I - SUPREME_GOVERNOR_OF -> Church Of England\n",
      "Elizabeth I - ADVISED_BY -> William Cecil\n",
      "Elizabeth I - SIBLING_OF -> Mary I\n",
      "Elizabeth I - INTERACTED_WITH -> Spain\n",
      "Elizabeth I - PARTICIPANT -> Elizabethan Religious Settlement\n",
      "Elizabeth I - ADVISOR -> Sir Francis Walsingham\n",
      "Elizabeth I - SUCCESSOR -> James Vi Of Scotland\n",
      "Elizabeth I - SUPREME_GOVERNOR -> Church Of England\n",
      "Elizabeth I - ADVISOR -> William Cecil\n",
      "Elizabeth I - SIBLING -> Mary\n",
      "Elizabeth I - SIBLING -> Edward Vi\n",
      "Elizabeth I - CHILD_OF -> Anne Boleyn\n",
      "Elizabeth I - CHILD_OF -> Henry Viii\n",
      "Elizabeth I - MEMBER_OF -> House Of Tudor\n",
      "Elizabeth I - QUEEN -> Ireland\n",
      "Elizabeth I - QUEEN -> England\n",
      "Queen Elizabeth I - HEAD_OF -> Elizabethan Era\n",
      "Queen Elizabeth I - SAT_FOR -> Nicholas Hilliard\n",
      "Queen Elizabeth I - SPANS -> Early Modern Period\n",
      "Queen Elizabeth I - SAT_FOR -> Cornelis Ketel\n",
      "Queen Elizabeth I - SAT_FOR -> George Gower\n",
      "Queen Elizabeth I - SAT_FOR -> Federico Zuccaro\n",
      "Queen Elizabeth I - SPANS -> English Royal Portraits\n",
      "Queen Elizabeth I - SAT_FOR -> Isaac Oliver\n",
      "Queen Elizabeth I - SAT_FOR -> Marcus Gheeraerts The Younger\n",
      "George Gower - APPROVED_PORTRAITS -> Queen Elizabeth I\n",
      "Government - COMMISSIONED_PORTRAITS -> Queen Elizabeth I\n",
      "George Gower - SERJEANT_PAINTER -> Queen Elizabeth I\n",
      "Nicholas Hilliard - OFFICIAL_LIMMER -> Queen Elizabeth I\n",
      "Courtiers - COMMISSIONED_PAINTINGS -> Queen Elizabeth I\n",
      "Tudor Artists - PRODUCED_IMAGES -> Queen Elizabeth I\n",
      "George Gower - RESPONSIBLE_FOR_APPROVING_PORTRAITS_OF -> Queen Elizabeth I\n",
      "Portraits - CONTAIN -> Queen Elizabeth I\n",
      "Nicholas Hilliard - APPOINTED_BY -> Queen Elizabeth I\n"
     ]
    },
    {
     "data": {
      "text/plain": [
       "'Elizabeth I belonged to the House of Tudor.'"
      ]
     },
     "execution_count": 20,
     "metadata": {},
     "output_type": "execute_result"
    }
   ],
   "source": [
    "chain.invoke({\"question\": \"Which house did Elizabeth I belong to?\"})"
   ]
  },
  {
   "cell_type": "code",
   "execution_count": 21,
   "metadata": {},
   "outputs": [
    {
     "name": "stdout",
     "output_type": "stream",
     "text": [
      "Search query: When was Elizabeth I born?\n",
      "generate full text query: Elizabeth~2 AND I~2\n",
      "structured_retriever result: Elizabeth I - INTERACTED_WITH -> France\n",
      "Elizabeth I - INTERACTED_WITH -> Netherlands\n",
      "Elizabeth I - AIDED_BY -> Sir Francis Walsingham\n",
      "Elizabeth I - QUEEN_OF -> England\n",
      "Elizabeth I - SIBLING_OF -> Edward Vi\n",
      "Elizabeth I - SUCCEEDED_BY -> James Vi Of Scotland\n",
      "Elizabeth I - QUEEN_OF -> Ireland\n",
      "Elizabeth I - SUPREME_GOVERNOR_OF -> Church Of England\n",
      "Elizabeth I - ADVISED_BY -> William Cecil\n",
      "Elizabeth I - SIBLING_OF -> Mary I\n",
      "Elizabeth I - INTERACTED_WITH -> Spain\n",
      "Elizabeth I - PARTICIPANT -> Elizabethan Religious Settlement\n",
      "Elizabeth I - ADVISOR -> Sir Francis Walsingham\n",
      "Elizabeth I - SUCCESSOR -> James Vi Of Scotland\n",
      "Elizabeth I - SUPREME_GOVERNOR -> Church Of England\n",
      "Elizabeth I - ADVISOR -> William Cecil\n",
      "Elizabeth I - SIBLING -> Mary\n",
      "Elizabeth I - SIBLING -> Edward Vi\n",
      "Elizabeth I - CHILD_OF -> Anne Boleyn\n",
      "Elizabeth I - CHILD_OF -> Henry Viii\n",
      "Elizabeth I - MEMBER_OF -> House Of Tudor\n",
      "Elizabeth I - QUEEN -> Ireland\n",
      "Elizabeth I - QUEEN -> England\n",
      "Queen Elizabeth I - HEAD_OF -> Elizabethan Era\n",
      "Queen Elizabeth I - SAT_FOR -> Nicholas Hilliard\n",
      "Queen Elizabeth I - SPANS -> Early Modern Period\n",
      "Queen Elizabeth I - SAT_FOR -> Cornelis Ketel\n",
      "Queen Elizabeth I - SAT_FOR -> George Gower\n",
      "Queen Elizabeth I - SAT_FOR -> Federico Zuccaro\n",
      "Queen Elizabeth I - SPANS -> English Royal Portraits\n",
      "Queen Elizabeth I - SAT_FOR -> Isaac Oliver\n",
      "Queen Elizabeth I - SAT_FOR -> Marcus Gheeraerts The Younger\n",
      "George Gower - APPROVED_PORTRAITS -> Queen Elizabeth I\n",
      "Government - COMMISSIONED_PORTRAITS -> Queen Elizabeth I\n",
      "George Gower - SERJEANT_PAINTER -> Queen Elizabeth I\n",
      "Nicholas Hilliard - OFFICIAL_LIMMER -> Queen Elizabeth I\n",
      "Courtiers - COMMISSIONED_PAINTINGS -> Queen Elizabeth I\n",
      "Tudor Artists - PRODUCED_IMAGES -> Queen Elizabeth I\n",
      "George Gower - RESPONSIBLE_FOR_APPROVING_PORTRAITS_OF -> Queen Elizabeth I\n",
      "Portraits - CONTAIN -> Queen Elizabeth I\n",
      "Nicholas Hilliard - APPOINTED_BY -> Queen Elizabeth I\n"
     ]
    },
    {
     "data": {
      "text/plain": [
       "'Elizabeth I was born on 7 September 1533.'"
      ]
     },
     "execution_count": 21,
     "metadata": {},
     "output_type": "execute_result"
    }
   ],
   "source": [
    "chain.invoke(\n",
    "    {\n",
    "        \"question\": \"When was she born?\",\n",
    "        \"chat_history\": [(\"Which house did Elizabeth I belong to?\", \"House Of Tudor\")],\n",
    "    }\n",
    ")"
   ]
  },
  {
   "cell_type": "code",
   "execution_count": 22,
   "metadata": {},
   "outputs": [
    {
     "name": "stdout",
     "output_type": "stream",
     "text": [
      "Search query: Where was Elizabeth born?\n",
      "generate full text query: Elizabeth~2\n",
      "structured_retriever result: Elizabeth - CHILD_OF -> Ann\n",
      "Elizabeth - CHILD_OF -> Henry Viii\n",
      "Elizabeth - CHILD_OF -> Peter The Great\n",
      "Elizabeth - CHILD_OF -> Catherine\n",
      "Elizabeth - SIBLING -> Alexei\n",
      "Elizabeth - SUPPORTED_MILITARY_CAMPAIGN -> Ireland\n",
      "Elizabeth - SUPPORTED_MILITARY_CAMPAIGN -> France\n",
      "Elizabeth - SUPPORTED_MILITARY_CAMPAIGN -> Spain\n",
      "Elizabeth - SUPPORTED_MILITARY_CAMPAIGN -> Netherlands\n",
      "Elizabeth - REIGN -> Elizabethan Era\n",
      "Elizabeth - ALIAS -> Gloriana\n",
      "Elizabeth - ALIAS -> Good Queen Bess\n",
      "Elizabeth - ALIAS -> Empress Of Russia\n",
      "Elizabeth - ALIAS -> Elizaveta Petrovna\n",
      "Elizabeth - BORN_IN -> Greenwich Palace\n",
      "Elizabeth - BORN_IN -> Kolomenskoye\n",
      "Elizabeth - NAMED_AFTER -> Elizabeth Of York\n",
      "Elizabeth - NAMED_AFTER -> Lady Elizabeth Howard\n",
      "Elizabeth - CHILD -> Catherine I Of Russia\n",
      "Elizabeth - CHILD -> Tsar Peter The Great\n",
      "Elizabeth - AUNT -> Peter Iii\n",
      "Elizabeth - AUNT -> Peter Ii\n",
      "Elizabeth - COUSIN -> Anna\n",
      "Elizabeth - COUSIN -> Ivan Vi\n",
      "Elizabeth - LED -> Seven Years' War\n",
      "Elizabeth - LED -> Russian Empire\n",
      "Elizabeth - LED -> War Of Austrian Succession\n",
      "Elizabeth - ENCOURAGED -> Imperial Academy Of Arts\n",
      "Elizabeth - ENCOURAGED -> Ivan Shuvalov\n",
      "Elizabeth - ENCOURAGED -> Mikhail Lomonosov\n",
      "Elizabeth - ENCOURAGED -> University Of Moscow\n",
      "Elizabeth - SUPPORTED -> Bartolomeo Rastrelli\n",
      "Elizabeth - FINANCED -> Peterhof Palace\n",
      "Elizabeth - FINANCED -> Winter Palace\n",
      "Elizabeth - FINANCED -> Smolny Cathedral\n",
      "Elizabeth - COLLABORATED_WITH -> Aleksey Bestuzhev-Ryumin\n",
      "Elizabeth - ALLIED_WITH -> France\n",
      "Elizabeth - ALLIED_WITH -> Austria\n",
      "Elizabeth - OPPOSED -> Prussia\n",
      "Elizabeth - OPPOSED -> Frederick The Great\n",
      "Elizabeth - OCCUPIED -> Berlin\n",
      "Elizabeth - BORN_ON -> 7 September 1533\n",
      "Elizabeth - BORN_ON -> 18 December 1709\n",
      "Elizabeth - BORN_ON -> 18 December 1709 (O.S.)\n",
      "Elizabeth - GIVEN_TITLE -> Tsarevna\n",
      "Elizabeth - GIVEN_TITLE_ON -> 6 March 1711\n",
      "Elizabeth - SUPPORTED_MILITARY_CAMPAIGNS -> Spain\n",
      "Elizabeth - SUPPORTED_MILITARY_CAMPAIGNS -> Netherlands\n",
      "Elizabeth - SUPPORTED_MILITARY_CAMPAIGNS -> France\n",
      "Elizabeth - SUPPORTED_MILITARY_CAMPAIGNS -> Ireland\n"
     ]
    },
    {
     "data": {
      "text/plain": [
       "'Elizabeth was born at Greenwich Palace and Kolomenskoye.'"
      ]
     },
     "execution_count": 22,
     "metadata": {},
     "output_type": "execute_result"
    }
   ],
   "source": [
    "chain.invoke({\"question\": \"Where was Elizabeth born?\"})"
   ]
  },
  {
   "cell_type": "code",
   "execution_count": null,
   "metadata": {},
   "outputs": [],
   "source": []
  }
 ],
 "metadata": {
  "kernelspec": {
   "display_name": ".venv",
   "language": "python",
   "name": "python3"
  },
  "language_info": {
   "codemirror_mode": {
    "name": "ipython",
    "version": 3
   },
   "file_extension": ".py",
   "mimetype": "text/x-python",
   "name": "python",
   "nbconvert_exporter": "python",
   "pygments_lexer": "ipython3",
   "version": "3.9.6"
  }
 },
 "nbformat": 4,
 "nbformat_minor": 2
}
