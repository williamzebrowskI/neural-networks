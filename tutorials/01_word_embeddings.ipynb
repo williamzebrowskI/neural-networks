{
 "cells": [
  {
   "cell_type": "markdown",
   "metadata": {},
   "source": [
    "# Understanding Embedding Layers in PyTorch\n",
    "\n",
    "This notebook explains the embedding process in PyTorch using an example with a large vocabulary size and embedding dimension.\n",
    "\n",
    "## What is an Embedding Layer?\n",
    "\n",
    "An embedding layer maps discrete input tokens (like words) into continuous vectors. It is used to represent words in a dense vector space where each word has its own unique vector representation.\n",
    "\n",
    "### Why Use Embeddings?\n",
    "- **Dimensionality Reduction:** Instead of one-hot encoding with a large dimension, embeddings provide a lower-dimensional representation.\n",
    "- **Semantic Meaning:** Vectors can capture semantic relationships between words."
   ]
  },
  {
   "cell_type": "markdown",
   "metadata": {},
   "source": [
    "## Step-by-Step Explanation\n",
    "\n",
    "### Step 1: Define the Vocabulary\n",
    "For simplicity, we use a small subset of words to illustrate the process. In practice, the vocabulary can be much larger."
   ]
  },
  {
   "cell_type": "code",
   "execution_count": 34,
   "metadata": {},
   "outputs": [
    {
     "name": "stdout",
     "output_type": "stream",
     "text": [
      "12\n"
     ]
    }
   ],
   "source": [
    "import torch\n",
    "import torch.nn as nn\n",
    "\n",
    "# Define a small vocabulary for illustration\n",
    "vocab = {'<pad>': 0, '<unk>': 1, 'the': 2, 'to': 3, 'and': 4, 'of': 5, 'a': 6, 'in': 7, 'that': 8, 'is': 9, 'cat': 10, 'hat': 11}\n",
    "vocab_size = len(vocab)\n",
    "\n",
    "print(vocab_size)\n"
   ]
  },
  {
   "cell_type": "markdown",
   "metadata": {},
   "source": [
    "## Step 2: Initialize the Embedding Layer\n",
    "The embedding layer is initialized with a random matrix of size `(vocab_size, embedding_dim)`."
   ]
  },
  {
   "cell_type": "code",
   "execution_count": 24,
   "metadata": {},
   "outputs": [],
   "source": [
    "# Define the embedding dimension\n",
    "embedding_dim = 512\n",
    "\n",
    "# Initialize the embedding layer\n",
    "embedding_layer = nn.Embedding(vocab_size, embedding_dim)"
   ]
  },
  {
   "cell_type": "markdown",
   "metadata": {},
   "source": [
    "## Step 3: Embedding Matrix Initialization\n",
    "The embedding matrix \\( E \\) has dimensions `(vocab_size, embedding_dim)`. Each row represents a word vector in the embedding space.\n",
    "\n",
    "### Math Behind Embedding Initialization\n",
    "For each word in the vocabulary, a unique vector of size `embedding_dim` is initialized. This matrix is updated during training to capture the relationships between words.\n",
    "\n",
    "Let's initialize and inspect the embedding matrix."
   ]
  },
  {
   "cell_type": "code",
   "execution_count": 25,
   "metadata": {},
   "outputs": [
    {
     "data": {
      "text/plain": [
       "torch.Size([12, 512])"
      ]
     },
     "execution_count": 25,
     "metadata": {},
     "output_type": "execute_result"
    }
   ],
   "source": [
    "# Inspect the size of the embedding matrix\n",
    "embedding_matrix = embedding_layer.weight.data\n",
    "embedding_matrix.size()"
   ]
  },
  {
   "cell_type": "markdown",
   "metadata": {},
   "source": [
    "## Step 4: Input Sequence to Embeddings\n",
    "Given an input sequence of token indices, the embedding layer retrieves the corresponding vectors from the embedding matrix."
   ]
  },
  {
   "cell_type": "code",
   "execution_count": 37,
   "metadata": {},
   "outputs": [
    {
     "name": "stdout",
     "output_type": "stream",
     "text": [
      "Input Sequence: tensor([ 2, 10,  7,  2, 11])\n"
     ]
    }
   ],
   "source": [
    "# Example input sequence: \"the cat in the hat\"\n",
    "input_indices = torch.tensor([2, 10, 7, 2, 11], dtype=torch.long)  # Example indices based on the vocab\n",
    "\n",
    "# Get the embeddings for the input sequence\n",
    "embeddings = embedding_layer(input_indices)\n",
    "\n",
    "print(f\"Input Sequence: {input_indices}\")"
   ]
  },
  {
   "cell_type": "markdown",
   "metadata": {},
   "source": [
    "## Step 5: Inspect the Embeddings\n",
    "Each token index in the input sequence is mapped to its corresponding 512-dimensional vector."
   ]
  },
  {
   "cell_type": "code",
   "execution_count": 36,
   "metadata": {},
   "outputs": [
    {
     "data": {
      "text/plain": [
       "tensor([[ 0.1167, -2.6202,  0.8959,  0.2841,  0.2588, -0.6021, -0.0957,  0.2856,\n",
       "          0.1735,  1.0869],\n",
       "        [-0.2041,  0.5962, -2.1217,  0.8078,  0.2647, -1.1594, -1.3126, -0.4208,\n",
       "         -1.2536, -1.6452],\n",
       "        [ 0.0293,  0.0540,  0.0781, -0.1809, -0.9328, -0.9710, -0.1827, -0.4984,\n",
       "          1.2441,  1.1407],\n",
       "        [ 0.1167, -2.6202,  0.8959,  0.2841,  0.2588, -0.6021, -0.0957,  0.2856,\n",
       "          0.1735,  1.0869],\n",
       "        [-1.0875, -0.5282, -0.4345,  0.4412,  0.6763,  0.4563,  0.0057, -1.3187,\n",
       "         -0.0275,  1.6703]], grad_fn=<EmbeddingBackward0>)"
      ]
     },
     "execution_count": 36,
     "metadata": {},
     "output_type": "execute_result"
    }
   ],
   "source": [
    "embeddings"
   ]
  },
  {
   "cell_type": "markdown",
   "metadata": {},
   "source": [
    "## Explanation of the Embeddings\n",
    "- Each row in the output corresponds to a token in the input sequence.\n",
    "- The values in each row are the learned weights representing the token in the 512-dimensional space.\n",
    "- These embeddings capture the semantic meaning and relationships between words.\n",
    "\n",
    "For example, words that are similar or often appear in similar contexts will have similar vector representations."
   ]
  },
  {
   "cell_type": "markdown",
   "metadata": {},
   "source": [
    "## Recap\n",
    "1. **Vocabulary Size:** The number of unique tokens in the vocabulary (e.g., 10,000).\n",
    "2. **Embedding Dimension:** The size of the vector representing each token (e.g., 512).\n",
    "3. **Embedding Matrix:** A matrix of size `(vocab_size, embedding_dim)` initialized randomly.\n",
    "4. **Token Indices:** Each word in the input sequence is converted to its corresponding index.\n",
    "5. **Embedding Lookup:** The embedding layer retrieves the vectors for the input token indices, resulting in a sequence of vectors.\n",
    "\n",
    "This process allows the model to learn and represent words in a continuous vector space, capturing their semantic relationships and improving the model's performance in tasks like text generation."
   ]
  },
  {
   "cell_type": "markdown",
   "metadata": {},
   "source": [
    "## Embeddings Passed to Positional Encoder\n",
    "\n",
    "In a Transformer architecture, after converting tokens to embeddings, the embeddings are passed through the positional encoder. This step adds positional information to the embeddings, enabling the model to understand the order of the tokens."
   ]
  },
  {
   "cell_type": "markdown",
   "metadata": {},
   "source": []
  },
  {
   "cell_type": "markdown",
   "metadata": {},
   "source": [
    "## More in-depth look at Embeddings:"
   ]
  },
  {
   "cell_type": "code",
   "execution_count": 28,
   "metadata": {},
   "outputs": [
    {
     "name": "stdout",
     "output_type": "stream",
     "text": [
      "Words: ['This', 'script', 'implements', 'a', 'decoder-only', 'Transformer', 'model', 'for', 'text', 'generation,', 'similar', 'to', 'the', 'architecture', 'used', 'in', 'GPT', '(Generative', 'Pre-trained', 'Transformer).', 'The', 'model', 'is', 'trained', 'on', 'a', 'text', 'dataset,', 'specifically', 'the', 'book', '\"Pride', 'and', 'Prejudice,\"', 'to', 'learn', 'to', 'generate', 'text', 'in', 'the', 'style', 'of', 'the', 'book.', 'The', 'script', 'trains', 'the', 'model', 'on', 'the', 'text', 'of', '\"Pride', 'and', 'Prejudice\"', 'to', 'generate', 'text', 'in', 'a', 'similar', 'style.', 'After', 'training,', 'the', 'model', 'can', 'be', 'used', 'to', 'generate', 'text', 'by', 'predicting', 'the', 'next', 'token', 'in', 'a', 'sequence', 'based', 'on', 'the', 'previous', 'tokens.']\n",
      "Unique Words: ['This', 'script', 'implements', 'a', 'decoder-only', 'Transformer', 'model', 'for', 'text', 'generation,', 'similar', 'to', 'the', 'architecture', 'used', 'in', 'GPT', '(Generative', 'Pre-trained', 'Transformer).', 'The', 'model', 'is', 'trained', 'on', 'a', 'text', 'dataset,', 'specifically', 'the', 'book', '\"Pride', 'and', 'Prejudice,\"', 'to', 'learn', 'to', 'generate', 'text', 'in', 'the', 'style', 'of', 'the', 'book.', 'The', 'script', 'trains', 'the', 'model', 'on', 'the', 'text', 'of', '\"Pride', 'and', 'Prejudice\"', 'to', 'generate', 'text', 'in', 'a', 'similar', 'style.', 'After', 'training,', 'the', 'model', 'can', 'be', 'used', 'to', 'generate', 'text', 'by', 'predicting', 'the', 'next', 'token', 'in', 'a', 'sequence', 'based', 'on', 'the', 'previous', 'tokens.']\n",
      "Vocab: {'dataset,': 4, 'generation,': 5, 'trained': 6, 'previous': 7, 'style.': 8, 'GPT': 9, 'sequence': 10, 'is': 11, 'book': 12, 'predicting': 13, 'based': 14, 'in': 15, 'implements': 16, 'to': 17, '(Generative': 18, 'a': 19, 'training,': 20, 'can': 21, 'Prejudice\"': 22, 'similar': 23, 'and': 24, 'Prejudice,\"': 25, 'tokens.': 26, 'used': 27, 'of': 28, 'Transformer': 29, 'This': 30, 'text': 31, 'specifically': 32, 'script': 33, 'learn': 34, 'model': 35, 'on': 36, 'the': 37, 'next': 38, 'generate': 39, 'token': 40, 'by': 41, 'architecture': 42, 'style': 43, 'trains': 44, 'The': 45, 'Pre-trained': 46, 'decoder-only': 47, '\"Pride': 48, 'After': 49, 'Transformer).': 50, 'for': 51, 'be': 52, 'book.': 53}\n",
      "Vocabulary size: 54\n",
      "Sample vocabulary: {'dataset,': 4, 'generation,': 5, 'trained': 6, 'previous': 7, 'style.': 8, 'GPT': 9, 'sequence': 10, 'is': 11, 'book': 12, 'predicting': 13}\n"
     ]
    }
   ],
   "source": [
    "import torch\n",
    "import torch.nn as nn\n",
    "\n",
    "# Define the input text\n",
    "text = \"\"\"\n",
    "This script implements a decoder-only Transformer model for text generation, similar to the architecture used in GPT (Generative Pre-trained Transformer). The model is trained on a text dataset, specifically the book \"Pride and Prejudice,\" to learn to generate text in the style of the book.\n",
    "The script trains the model on the text of \"Pride and Prejudice\" to generate text in a similar style. After training, the model can be used to generate text by predicting the next token in a sequence based on the previous tokens.\n",
    "\"\"\"\n",
    "\n",
    "# Tokenize the text and create the vocabulary\n",
    "def create_vocab(text):\n",
    "    words = text.split()\n",
    "    print(f\"Words: {words}\")\n",
    "    unique_words = set(words) # removes duplicates\n",
    "    print(f\"Unique Words: {words}\")\n",
    "    vocab = {word: i + 4 for i, word in enumerate(unique_words)} # create dict - map each word to a index\n",
    "    print(f\"Vocab: {vocab}\")\n",
    "\n",
    "    # Add special tokens to the vocabulary with fixed indices\n",
    "    vocab['<pad>'] = 0\n",
    "    vocab['<unk>'] = 1\n",
    "    vocab['<sos>'] = 2\n",
    "    vocab['<eos>'] = 3\n",
    "    return vocab\n",
    "\n",
    "vocab = create_vocab(text)\n",
    "print(\"Vocabulary size:\", len(vocab))\n",
    "print(\"Sample vocabulary:\", {k: vocab[k] for k in list(vocab)[:10]})"
   ]
  },
  {
   "cell_type": "code",
   "execution_count": 29,
   "metadata": {},
   "outputs": [
    {
     "name": "stdout",
     "output_type": "stream",
     "text": [
      "Vocab Size: 54\n",
      "Embedding Matrix Shape: Embedding(54, 10)\n",
      "Embedding Matrix:\n",
      "tensor([[ 1.7817e+00, -2.4578e-01, -1.9288e+00, -2.3736e+00, -1.7667e+00,\n",
      "         -1.3655e-01,  2.1512e-01,  4.9012e-01, -2.0669e-01, -1.2839e+00],\n",
      "        [-9.0111e-01,  2.2189e-01, -7.3052e-01, -9.3051e-01, -1.1411e+00,\n",
      "          1.8688e-01, -6.2162e-02,  5.5358e-01, -5.3468e-01, -4.7860e+00],\n",
      "        [ 1.1667e-01, -2.6202e+00,  8.9586e-01,  2.8406e-01,  2.5875e-01,\n",
      "         -6.0208e-01, -9.5742e-02,  2.8559e-01,  1.7346e-01,  1.0869e+00],\n",
      "        [-5.3958e-01,  1.1930e+00, -1.4879e+00, -1.1899e-01, -2.4420e-02,\n",
      "          7.0628e-01, -1.9891e+00,  1.5592e-01, -1.0137e-01,  1.3473e+00],\n",
      "        [-5.0485e-01, -3.4236e-01,  2.2111e-01,  2.7366e-03,  1.0548e+00,\n",
      "          4.9219e-02,  3.8879e-01, -1.9308e-01, -1.6287e+00, -5.0560e-01],\n",
      "        [-5.0615e-01, -7.6137e-01, -7.9958e-01,  2.1156e-01, -5.4082e-01,\n",
      "          1.0898e+00, -7.4317e-01,  1.2753e+00,  8.7972e-01, -2.2844e+00],\n",
      "        [-4.5271e-01, -4.8495e-02, -9.6725e-01,  2.0909e+00, -2.4019e+00,\n",
      "         -1.3465e+00,  1.1756e+00,  1.1495e+00, -1.3994e+00,  9.2234e-01],\n",
      "        [ 2.9265e-02,  5.4000e-02,  7.8101e-02, -1.8088e-01, -9.3277e-01,\n",
      "         -9.7095e-01, -1.8268e-01, -4.9842e-01,  1.2441e+00,  1.1407e+00],\n",
      "        [ 2.0459e-01, -2.2058e-01, -5.2728e-01, -3.7691e-01, -8.0646e-01,\n",
      "          8.8868e-01,  3.0533e-01,  1.1005e-01,  3.3256e-01, -7.8830e-01],\n",
      "        [ 1.4934e-01,  8.4616e-01, -8.0727e-01, -1.6949e-01,  1.2642e-01,\n",
      "          9.0821e-01,  1.0006e-01, -4.9276e-01,  3.7902e-01, -5.3647e-01],\n",
      "        [-2.0410e-01,  5.9620e-01, -2.1217e+00,  8.0779e-01,  2.6467e-01,\n",
      "         -1.1594e+00, -1.3126e+00, -4.2081e-01, -1.2536e+00, -1.6452e+00],\n",
      "        [-1.0875e+00, -5.2820e-01, -4.3453e-01,  4.4116e-01,  6.7628e-01,\n",
      "          4.5631e-01,  5.7416e-03, -1.3187e+00, -2.7510e-02,  1.6703e+00],\n",
      "        [ 5.5599e-02, -1.4485e+00, -7.2414e-01,  9.5441e-01, -1.0433e+00,\n",
      "         -5.5661e-01, -5.4579e-01, -5.5487e-02, -1.2166e+00,  7.5048e-01],\n",
      "        [ 8.0705e-01,  9.1289e-01,  4.5317e-01, -2.2367e-01, -1.7199e+00,\n",
      "         -1.0472e+00, -1.7125e+00, -4.9660e-01,  2.2970e-02,  5.6850e-01],\n",
      "        [ 1.1416e+00,  5.2223e-01, -1.6093e+00,  2.4960e-01, -1.0872e+00,\n",
      "          1.2531e+00,  2.4242e+00,  1.0269e+00, -5.0703e-01,  4.6910e-02],\n",
      "        [-3.5700e-01, -2.3740e-01,  6.7863e-01,  3.1712e+00, -2.2814e-01,\n",
      "         -1.3613e-01, -1.2474e+00,  7.1652e-01, -4.9213e-01,  2.0265e+00],\n",
      "        [-8.0235e-01, -9.8867e-01,  1.0784e+00,  3.0479e+00, -8.3420e-01,\n",
      "          9.6970e-01,  2.0081e-01,  8.3243e-01,  2.1970e+00,  1.0890e+00],\n",
      "        [-2.4873e-01,  8.0470e-01, -1.2662e-01,  2.0125e+00, -1.2527e+00,\n",
      "         -9.3775e-01,  1.7530e-01, -1.1562e+00,  7.5957e-01, -7.7146e-01],\n",
      "        [ 6.6711e-01,  7.6481e-02, -1.3755e-01, -6.0045e-02,  4.1830e-01,\n",
      "          7.4654e-02, -9.2565e-01, -1.2512e+00, -2.3422e-01,  4.7280e-01],\n",
      "        [ 7.2014e-01,  1.7064e-02, -3.1708e-01, -1.5422e+00, -1.9077e+00,\n",
      "          1.5713e+00,  2.1209e+00,  2.1159e+00,  1.4458e+00, -1.7229e+00],\n",
      "        [-1.1933e+00, -2.2072e-01,  4.1338e-01,  7.9781e-01,  2.2413e+00,\n",
      "         -8.2237e-02,  1.3355e+00,  5.6940e-01, -1.2131e+00,  9.4342e-01],\n",
      "        [-1.4677e+00,  1.2177e+00,  1.0991e+00,  7.0765e-02, -8.5207e-01,\n",
      "          6.8913e-01,  3.1237e-01,  3.0428e-02,  8.7832e-01,  1.1862e+00],\n",
      "        [ 2.3308e-01,  3.4008e-01, -8.8819e-01,  5.2833e-01,  8.5560e-01,\n",
      "          2.4496e-01,  1.0915e+00, -2.1777e-01,  8.7397e-01, -1.4361e+00],\n",
      "        [ 7.6977e-01,  3.1600e-01,  5.6157e-01, -6.2673e-01, -1.3130e+00,\n",
      "         -8.5142e-02, -3.0328e-01,  4.4121e-02,  9.3244e-02,  1.5216e+00],\n",
      "        [ 1.7947e+00,  2.8751e-01,  1.9253e-01, -2.2296e+00, -2.2868e-01,\n",
      "         -4.6867e-01,  1.5130e+00, -2.7858e-01, -2.0518e-01, -5.5649e-01],\n",
      "        [-5.3188e-02, -8.7076e-01,  1.5045e+00,  2.8724e-01,  2.0667e+00,\n",
      "          5.0696e-01,  2.8699e-01,  1.2828e+00, -2.7237e-02,  1.7415e+00],\n",
      "        [ 2.2592e+00, -2.0404e+00, -2.6599e+00, -5.7739e-01,  3.8629e-01,\n",
      "         -1.3580e+00, -2.2922e-01,  1.8937e-01, -6.8242e-01, -2.8435e-02],\n",
      "        [-1.2677e-01, -4.9278e-01, -1.3772e+00, -8.6777e-02,  3.3418e-02,\n",
      "          7.6707e-02, -6.7937e-01, -5.7534e-01,  2.1798e+00, -8.4823e-01],\n",
      "        [ 6.2431e-01, -9.3001e-01,  8.7206e-01,  5.3959e-01, -6.2366e-01,\n",
      "          7.2896e-01,  6.5011e-01,  2.8546e-01,  3.3666e-01,  3.2400e-01],\n",
      "        [-6.9540e-01, -6.5679e-01, -1.7060e+00,  1.1546e+00,  2.1852e+00,\n",
      "         -1.3217e+00, -3.5724e-01, -1.1262e+00, -4.1110e-01,  8.6602e-01],\n",
      "        [ 1.9610e+00,  6.9433e-02, -7.7523e-01, -5.0131e-01,  1.5952e-01,\n",
      "         -9.3172e-02, -2.8983e-01,  1.3627e+00,  1.4468e-01,  3.0185e-02],\n",
      "        [-9.0924e-01,  9.5398e-01,  1.4836e+00,  2.1496e-01,  1.2115e-01,\n",
      "         -5.2215e-01, -1.5578e+00, -2.6556e+00,  9.3545e-01, -3.4726e-01],\n",
      "        [ 9.1092e-02,  3.1784e-01,  3.0273e+00,  1.3844e+00,  2.5001e-01,\n",
      "          1.4660e+00,  2.0840e+00, -1.5933e+00, -6.8828e-02, -7.8096e-01],\n",
      "        [-5.0942e-01, -2.0769e+00, -1.0320e+00, -1.1549e+00,  4.8648e-01,\n",
      "         -2.5315e-01, -9.9709e-01, -2.7978e-01,  8.1825e-01, -4.4276e-01],\n",
      "        [ 1.1974e-01, -8.7034e-02,  9.5235e-01, -1.4120e+00,  1.7706e+00,\n",
      "          7.6481e-01, -7.7014e-02,  1.3882e+00, -1.8774e+00, -4.2840e-01],\n",
      "        [-1.6193e+00, -1.8380e+00,  4.0912e-01,  5.8503e-01, -1.1499e+00,\n",
      "          8.6374e-01,  7.8424e-01,  1.3168e-01, -2.5459e+00,  4.1740e-01],\n",
      "        [-2.2446e-01, -1.0128e+00, -1.8508e+00, -4.7304e-01, -7.6273e-01,\n",
      "         -8.3041e-01, -1.3472e+00,  9.9127e-01, -7.7637e-01,  1.5681e+00],\n",
      "        [ 1.1367e+00,  4.9307e-01,  6.2865e-01,  1.7559e+00, -6.7656e-01,\n",
      "          9.6646e-01,  9.8858e-01,  1.8762e+00, -1.2532e+00,  7.1362e-01],\n",
      "        [-6.4848e-01, -1.2749e+00, -6.0620e-01,  1.4192e+00,  9.2197e-01,\n",
      "         -7.3830e-01,  1.2263e-01, -5.2910e-01, -5.0950e-01, -4.1187e-01],\n",
      "        [ 9.5397e-01,  5.9060e-01,  3.3230e-01, -2.8618e-01,  1.8068e-01,\n",
      "         -2.8488e-01,  4.8667e-01, -1.4342e+00,  1.1685e+00,  8.3124e-01],\n",
      "        [-3.6448e-01,  6.9239e-01,  1.0240e+00,  1.3565e+00, -9.4278e-02,\n",
      "          2.3284e-01, -5.4286e-01,  3.1395e-01,  1.0503e+00, -2.4535e-01],\n",
      "        [ 1.0690e+00,  9.1909e-02,  5.3067e-01,  1.6243e+00,  2.0901e+00,\n",
      "         -2.3853e-01, -5.9175e-01,  1.1612e+00,  1.4953e-01, -1.1047e+00],\n",
      "        [ 1.3715e+00, -8.2288e-01, -7.0855e-01,  1.0550e+00,  5.3153e-01,\n",
      "          1.5584e+00, -8.5616e-01, -4.3689e-01, -1.1961e+00, -1.5777e+00],\n",
      "        [ 5.0009e-01,  7.8638e-01, -5.8381e-01,  1.1467e+00, -6.1200e-01,\n",
      "         -1.3354e+00, -6.9610e-01, -9.9782e-01, -5.0376e-01,  2.4592e-01],\n",
      "        [-2.3032e-01,  4.9495e-01, -3.4334e-01,  2.5341e-01, -7.1752e-01,\n",
      "          2.0412e+00,  1.9059e+00,  1.9404e-01, -3.4554e-01,  4.0468e-01],\n",
      "        [-9.0762e-01, -5.6928e-01, -8.2263e-02,  6.8137e-02, -1.7826e+00,\n",
      "          7.7801e-01, -1.0538e+00, -3.2015e-03, -1.1078e+00,  1.2081e+00],\n",
      "        [-8.3170e-01, -7.5431e-01, -7.8532e-01, -2.7864e-01,  1.1164e+00,\n",
      "          1.0119e-01,  4.9604e-01, -1.7599e+00, -1.1241e-01,  9.1479e-01],\n",
      "        [-1.4564e+00, -7.5249e-01,  5.4608e-01,  6.9959e-01, -8.8782e-01,\n",
      "         -2.1205e-04,  1.3236e-01,  1.6614e+00,  5.6530e-01,  1.6272e+00],\n",
      "        [ 3.9185e-01,  6.0311e-01,  8.6127e-01, -4.7570e-01, -1.9167e+00,\n",
      "         -8.6671e-01,  1.1683e-02, -4.4193e-01, -2.3843e-01, -1.2865e+00],\n",
      "        [-8.6358e-01,  4.2659e-01, -6.5030e-01, -2.4921e-01,  9.8760e-01,\n",
      "          1.5793e-01,  1.0221e+00,  1.2348e-01, -7.9467e-01,  5.5664e-02],\n",
      "        [ 9.5937e-02,  5.5168e-01, -7.4556e-01,  7.7607e-01, -7.0504e-01,\n",
      "         -4.7838e-01, -1.1020e-01,  1.4802e+00,  5.6341e-01,  1.4601e+00],\n",
      "        [-4.7715e-01, -1.5296e+00,  7.8551e-01,  2.3390e-01, -2.2993e-01,\n",
      "          1.2152e+00,  9.1123e-01, -2.5110e-01,  5.6119e-01, -2.2430e-01],\n",
      "        [ 4.9212e-01, -7.5856e-01,  4.0749e-01,  3.3305e-01, -9.9863e-01,\n",
      "          8.4653e-01,  1.3390e-01, -9.8323e-02, -6.9195e-01,  1.6184e+00],\n",
      "        [-1.0781e+00, -1.3424e+00,  9.9725e-01, -1.6313e+00,  9.8481e-01,\n",
      "         -1.8999e+00, -4.7469e-01,  3.0051e-01,  1.2042e+00,  1.5705e+00]])\n"
     ]
    }
   ],
   "source": [
    "# Define the embedding layer\n",
    "vocab_size = len(vocab)  # Example vocabulary size\n",
    "print(f\"Vocab Size: {vocab_size}\")\n",
    "\n",
    "embedding_dim = 10  # Embedding dimension\n",
    "embedding_layer = nn.Embedding(vocab_size, embedding_dim)\n",
    "print(f\"Embedding Matrix Shape: {embedding_layer}\")\n",
    "\n",
    "# Extract the embedding matrix\n",
    "embedding_matrix = embedding_layer.weight.data\n",
    "\n",
    "print(\"Embedding Matrix:\")\n",
    "print(embedding_matrix)\n"
   ]
  },
  {
   "cell_type": "markdown",
   "metadata": {},
   "source": [
    "An embedding matrix of shape (54, 10) is created. Each row in this matrix corresponds to a word vector of size 10.  We can also print out the full Embedding Matrix as shown above."
   ]
  },
  {
   "cell_type": "markdown",
   "metadata": {},
   "source": [
    "### Extract the First Sentence and Convert to Indices"
   ]
  },
  {
   "cell_type": "code",
   "execution_count": 30,
   "metadata": {},
   "outputs": [
    {
     "name": "stdout",
     "output_type": "stream",
     "text": [
      "Sentence indicies: [30, 33, 16, 19, 47, 29, 35, 51, 31, 1]\n",
      "Input indices: tensor([30, 33, 16, 19, 47, 29, 35, 51, 31,  1])\n"
     ]
    }
   ],
   "source": [
    "first_sentence = \"This script implements a decoder-only Transformer model for text generation\"\n",
    "first_sentence_indices = [vocab.get(word, vocab['<unk>']) for word in first_sentence.split()]\n",
    "print(f\"Sentence indicies: {first_sentence_indices}\")\n",
    "\n",
    "# Turn it into a tensor for processing\n",
    "input_indices = torch.tensor(first_sentence_indices, dtype=torch.long)\n",
    "print(f\"Input indices: {input_indices}\")\n"
   ]
  },
  {
   "cell_type": "markdown",
   "metadata": {},
   "source": [
    "### Get the embeddings for the input sequence"
   ]
  },
  {
   "cell_type": "code",
   "execution_count": 31,
   "metadata": {},
   "outputs": [],
   "source": [
    "embeddings = embedding_layer(input_indices)"
   ]
  },
  {
   "cell_type": "markdown",
   "metadata": {},
   "source": [
    "Retrieve the corresponding rows from the embedding matrix  E  for each index.\n",
    "\n",
    "So, If first_sentence_indices = [21, 6, 15, 8, 53, 50, 34, 24, 1], the corresponding embeddings would be something like this:"
   ]
  },
  {
   "cell_type": "code",
   "execution_count": 32,
   "metadata": {},
   "outputs": [],
   "source": [
    "embeddings_example = [\n",
    " [0.5, 0.6, ..., 0.8],  # Embedding for 'This' (index 21)\n",
    " [0.3, 0.4, ..., 0.7],  # Embedding for 'script' (index 6)\n",
    " [0.7, 0.1, ..., 0.9],  # Embedding for 'implements' (index 15)\n",
    " [0.4, 0.5, ..., 0.6],  # Embedding for 'decoder-only' (index 8)\n",
    " [0.2, 0.3, ..., 0.4],  # Embedding for 'Transformer' (index 53)\n",
    " [0.4, 0.5, ..., 0.6],  # Embedding for 'model' (index 50)\n",
    " [0.1, 0.2, ..., 0.3],  # Embedding for 'for' (index 34)\n",
    " [0.3, 0.4, ..., 0.7],  # Embedding for 'text' (index 24)\n",
    " [0.3, 0.4, ..., 0.7],  # Embedding for 'generation' (<unk>, index 1)\n",
    "]"
   ]
  },
  {
   "cell_type": "markdown",
   "metadata": {},
   "source": [
    "However, let's get the actualy Embeddings from the first_sentence_indices:"
   ]
  },
  {
   "cell_type": "code",
   "execution_count": 33,
   "metadata": {},
   "outputs": [
    {
     "name": "stdout",
     "output_type": "stream",
     "text": [
      "Embeddings shape:  torch.Size([10, 10])\n",
      "\n",
      "first_sentence_indices Embeddings: \n",
      "\n",
      "tensor([[ 1.9610e+00,  6.9433e-02, -7.7523e-01, -5.0131e-01,  1.5952e-01,\n",
      "         -9.3172e-02, -2.8983e-01,  1.3627e+00,  1.4468e-01,  3.0185e-02],\n",
      "        [-5.0942e-01, -2.0769e+00, -1.0320e+00, -1.1549e+00,  4.8648e-01,\n",
      "         -2.5315e-01, -9.9709e-01, -2.7978e-01,  8.1825e-01, -4.4276e-01],\n",
      "        [-8.0235e-01, -9.8867e-01,  1.0784e+00,  3.0479e+00, -8.3420e-01,\n",
      "          9.6970e-01,  2.0081e-01,  8.3243e-01,  2.1970e+00,  1.0890e+00],\n",
      "        [ 7.2014e-01,  1.7064e-02, -3.1708e-01, -1.5422e+00, -1.9077e+00,\n",
      "          1.5713e+00,  2.1209e+00,  2.1159e+00,  1.4458e+00, -1.7229e+00],\n",
      "        [-1.4564e+00, -7.5249e-01,  5.4608e-01,  6.9959e-01, -8.8782e-01,\n",
      "         -2.1205e-04,  1.3236e-01,  1.6614e+00,  5.6530e-01,  1.6272e+00],\n",
      "        [-6.9540e-01, -6.5679e-01, -1.7060e+00,  1.1546e+00,  2.1852e+00,\n",
      "         -1.3217e+00, -3.5724e-01, -1.1262e+00, -4.1110e-01,  8.6602e-01],\n",
      "        [-1.6193e+00, -1.8380e+00,  4.0912e-01,  5.8503e-01, -1.1499e+00,\n",
      "          8.6374e-01,  7.8424e-01,  1.3168e-01, -2.5459e+00,  4.1740e-01],\n",
      "        [-4.7715e-01, -1.5296e+00,  7.8551e-01,  2.3390e-01, -2.2993e-01,\n",
      "          1.2152e+00,  9.1123e-01, -2.5110e-01,  5.6119e-01, -2.2430e-01],\n",
      "        [-9.0924e-01,  9.5398e-01,  1.4836e+00,  2.1496e-01,  1.2115e-01,\n",
      "         -5.2215e-01, -1.5578e+00, -2.6556e+00,  9.3545e-01, -3.4726e-01],\n",
      "        [-9.0111e-01,  2.2189e-01, -7.3052e-01, -9.3051e-01, -1.1411e+00,\n",
      "          1.8688e-01, -6.2162e-02,  5.5358e-01, -5.3468e-01, -4.7860e+00]],\n",
      "       grad_fn=<EmbeddingBackward0>)\n"
     ]
    }
   ],
   "source": [
    "print(\"Embeddings shape: \", embeddings.shape)\n",
    "\n",
    "print(f\"\\nfirst_sentence_indices Embeddings: \\n\\n{embeddings}\")"
   ]
  }
 ],
 "metadata": {
  "kernelspec": {
   "display_name": ".venv",
   "language": "python",
   "name": "python3"
  },
  "language_info": {
   "codemirror_mode": {
    "name": "ipython",
    "version": 3
   },
   "file_extension": ".py",
   "mimetype": "text/x-python",
   "name": "python",
   "nbconvert_exporter": "python",
   "pygments_lexer": "ipython3",
   "version": "3.11.7"
  }
 },
 "nbformat": 4,
 "nbformat_minor": 2
}
