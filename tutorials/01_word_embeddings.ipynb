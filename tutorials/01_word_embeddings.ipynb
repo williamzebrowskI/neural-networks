{
 "cells": [
  {
   "cell_type": "markdown",
   "metadata": {},
   "source": [
    "# Understanding Embedding Layers for the Transformer architecture\n",
    "\n",
    "This notebook explains the embedding process in PyTorch using an example with a large vocabulary size and embedding dimension.\n",
    "\n",
    "## What is an Embedding Layer?\n",
    "\n",
    "An embedding layer maps discrete input tokens (like words) into continuous vectors. It is used to represent words in a dense vector space where each word has its own unique vector representation.\n",
    "\n",
    "### Why Use Embeddings?\n",
    "- **Dimensionality Reduction:** Instead of one-hot encoding with a large dimension, embeddings provide a lower-dimensional representation.\n",
    "- **Semantic Meaning:** Vectors can capture semantic relationships between words."
   ]
  },
  {
   "cell_type": "markdown",
   "metadata": {},
   "source": [
    "## Step-by-Step Explanation\n",
    "\n",
    "### Step 1: Define the Vocabulary\n",
    "For simplicity, we use a small subset of words to illustrate the process. In practice, the vocabulary can be much larger."
   ]
  },
  {
   "cell_type": "code",
   "execution_count": 14,
   "metadata": {},
   "outputs": [
    {
     "name": "stdout",
     "output_type": "stream",
     "text": [
      "12\n"
     ]
    }
   ],
   "source": [
    "import torch\n",
    "import torch.nn as nn\n",
    "\n",
    "# Define a small vocabulary for illustration\n",
    "vocab = {'<pad>': 0, '<unk>': 1, 'the': 2, 'to': 3, 'and': 4, 'of': 5, 'a': 6, 'in': 7, 'that': 8, 'is': 9, 'cat': 10, 'hat': 11}\n",
    "vocab_size = len(vocab)\n",
    "\n",
    "print(vocab_size)\n"
   ]
  },
  {
   "cell_type": "markdown",
   "metadata": {},
   "source": [
    "## Step 2: Initialize the Embedding Layer\n",
    "The embedding layer is initialized with a random matrix of size `(vocab_size, embedding_dim)`."
   ]
  },
  {
   "cell_type": "code",
   "execution_count": 17,
   "metadata": {},
   "outputs": [
    {
     "name": "stdout",
     "output_type": "stream",
     "text": [
      "Embedding layer: Embedding(12, 512) \n",
      "\n",
      "Embedding matrix: \n",
      " tensor([[-0.5306,  0.6974,  0.3685,  ..., -1.8144,  1.3594,  0.3562],\n",
      "        [-1.0072,  0.0480, -0.0106,  ...,  0.3968,  2.0107,  0.1754],\n",
      "        [-0.1164, -0.0656, -0.2980,  ...,  0.0169, -2.1042, -0.4275],\n",
      "        ...,\n",
      "        [ 1.2982,  1.4217, -0.7028,  ...,  1.1612,  0.6033, -1.4942],\n",
      "        [ 0.2040,  0.0248, -0.7561,  ..., -0.6447, -0.5856, -0.4786],\n",
      "        [-0.0211,  0.5515,  0.3734,  ..., -2.7401, -1.0484, -0.4281]])\n",
      "\n"
     ]
    }
   ],
   "source": [
    "# Define the embedding dimension\n",
    "embedding_dim = 512\n",
    "\n",
    "# Initialize the embedding layer\n",
    "embedding_layer = nn.Embedding(vocab_size, embedding_dim)\n",
    "\n",
    "print(f\"Embedding layer: {embedding_layer} \\n\")"
   ]
  },
  {
   "cell_type": "markdown",
   "metadata": {},
   "source": [
    "## Step 3: Embedding Matrix Initialization\n",
    "The embedding matrix \\( E \\) has dimensions `(vocab_size, embedding_dim)`. Each row represents a word vector in the embedding space.\n",
    "\n",
    "### Math Behind Embedding Initialization\n",
    "For each word in the vocabulary, a unique vector of size `embedding_dim` is initialized. This matrix is updated during training to capture the relationships between words.\n",
    "\n",
    "Let's initialize and inspect the embedding matrix."
   ]
  },
  {
   "cell_type": "code",
   "execution_count": 18,
   "metadata": {},
   "outputs": [
    {
     "name": "stdout",
     "output_type": "stream",
     "text": [
      "Embedding Matrix Size: \n",
      " torch.Size([12, 512])\n",
      "\n",
      "Embedding matrix: \n",
      " tensor([[-0.5306,  0.6974,  0.3685,  ..., -1.8144,  1.3594,  0.3562],\n",
      "        [-1.0072,  0.0480, -0.0106,  ...,  0.3968,  2.0107,  0.1754],\n",
      "        [-0.1164, -0.0656, -0.2980,  ...,  0.0169, -2.1042, -0.4275],\n",
      "        ...,\n",
      "        [ 1.2982,  1.4217, -0.7028,  ...,  1.1612,  0.6033, -1.4942],\n",
      "        [ 0.2040,  0.0248, -0.7561,  ..., -0.6447, -0.5856, -0.4786],\n",
      "        [-0.0211,  0.5515,  0.3734,  ..., -2.7401, -1.0484, -0.4281]])\n",
      "\n"
     ]
    }
   ],
   "source": [
    "# Inspect the size of the embedding matrix\n",
    "embedding_matrix = embedding_layer.weight.data\n",
    "print(f\"Embedding Matrix Size: \\n {embedding_matrix.size()}\\n\")\n",
    "\n",
    "\n",
    "print(f\"Embedding Matrix: \\n {embedding_matrix}\\n\")\n",
    "\n"
   ]
  },
  {
   "cell_type": "markdown",
   "metadata": {},
   "source": [
    "## Step 4: Input Sequence to Embeddings\n",
    "Given an input sequence of token indices, the embedding layer retrieves the corresponding vectors from the embedding matrix."
   ]
  },
  {
   "cell_type": "code",
   "execution_count": 19,
   "metadata": {},
   "outputs": [
    {
     "name": "stdout",
     "output_type": "stream",
     "text": [
      "Input Sequence: tensor([ 2, 10,  7,  2, 11])\n"
     ]
    }
   ],
   "source": [
    "# Example input sequence: \"the cat in the hat\"\n",
    "input_indices = torch.tensor([2, 10, 7, 2, 11], dtype=torch.long)  # Example indices based on the vocab\n",
    "\n",
    "# Get the embeddings for the input sequence\n",
    "embeddings = embedding_layer(input_indices)\n",
    "\n",
    "print(f\"Input Sequence: {input_indices}\")"
   ]
  },
  {
   "cell_type": "markdown",
   "metadata": {},
   "source": [
    "## Step 5: Inspect the Embeddings\n",
    "Each token index in the input sequence is mapped to its corresponding 512-dimensional vector."
   ]
  },
  {
   "cell_type": "code",
   "execution_count": 5,
   "metadata": {},
   "outputs": [
    {
     "data": {
      "text/plain": [
       "tensor([[-0.2626,  1.2768,  0.1062,  ..., -0.1417, -0.6415,  1.0311],\n",
       "        [-1.0452, -1.0182, -1.6060,  ..., -0.7584, -1.5634,  0.5559],\n",
       "        [-1.2636, -0.2993,  0.5076,  ...,  1.8362,  0.6055, -1.3608],\n",
       "        [-0.2626,  1.2768,  0.1062,  ..., -0.1417, -0.6415,  1.0311],\n",
       "        [-0.2111, -0.4657, -1.3099,  ..., -0.4435, -0.6390, -0.2911]],\n",
       "       grad_fn=<EmbeddingBackward0>)"
      ]
     },
     "execution_count": 5,
     "metadata": {},
     "output_type": "execute_result"
    }
   ],
   "source": [
    "embeddings"
   ]
  },
  {
   "cell_type": "markdown",
   "metadata": {},
   "source": [
    "## Explanation of the Embeddings\n",
    "- Each row in the output corresponds to a token in the input sequence.\n",
    "- The values in each row are the learned weights representing the token in the 512-dimensional space.\n",
    "- These embeddings capture the semantic meaning and relationships between words.\n",
    "\n",
    "For example, words that are similar or often appear in similar contexts will have similar vector representations."
   ]
  },
  {
   "cell_type": "markdown",
   "metadata": {},
   "source": [
    "## Recap\n",
    "1. **Vocabulary Size:** The number of unique tokens in the vocabulary (e.g., 10,000).\n",
    "2. **Embedding Dimension:** The size of the vector representing each token (e.g., 512).\n",
    "3. **Embedding Matrix:** A matrix of size `(vocab_size, embedding_dim)` initialized randomly.\n",
    "4. **Token Indices:** Each word in the input sequence is converted to its corresponding index.\n",
    "5. **Embedding Lookup:** The embedding layer retrieves the vectors for the input token indices, resulting in a sequence of vectors.\n",
    "\n",
    "This process allows the model to learn and represent words in a continuous vector space, capturing their semantic relationships and improving the model's performance in tasks like text generation."
   ]
  },
  {
   "cell_type": "markdown",
   "metadata": {},
   "source": [
    "## Embeddings Passed to Positional Encoder\n",
    "\n",
    "In a Transformer architecture, after converting tokens to embeddings, the embeddings are passed through the positional encoder. This step adds positional information to the embeddings, enabling the model to understand the order of the tokens."
   ]
  },
  {
   "cell_type": "markdown",
   "metadata": {},
   "source": []
  },
  {
   "cell_type": "markdown",
   "metadata": {},
   "source": [
    "## More in-depth look at Embeddings:"
   ]
  },
  {
   "cell_type": "code",
   "execution_count": 6,
   "metadata": {},
   "outputs": [
    {
     "name": "stdout",
     "output_type": "stream",
     "text": [
      "Words: ['This', 'script', 'implements', 'a', 'decoder-only', 'Transformer', 'model', 'for', 'text', 'generation,', 'similar', 'to', 'the', 'architecture', 'used', 'in', 'GPT', '(Generative', 'Pre-trained', 'Transformer).', 'The', 'model', 'is', 'trained', 'on', 'a', 'text', 'dataset,', 'specifically', 'the', 'book', '\"Pride', 'and', 'Prejudice,\"', 'to', 'learn', 'to', 'generate', 'text', 'in', 'the', 'style', 'of', 'the', 'book.', 'The', 'script', 'trains', 'the', 'model', 'on', 'the', 'text', 'of', '\"Pride', 'and', 'Prejudice\"', 'to', 'generate', 'text', 'in', 'a', 'similar', 'style.', 'After', 'training,', 'the', 'model', 'can', 'be', 'used', 'to', 'generate', 'text', 'by', 'predicting', 'the', 'next', 'token', 'in', 'a', 'sequence', 'based', 'on', 'the', 'previous', 'tokens.']\n",
      "Unique Words: ['This', 'script', 'implements', 'a', 'decoder-only', 'Transformer', 'model', 'for', 'text', 'generation,', 'similar', 'to', 'the', 'architecture', 'used', 'in', 'GPT', '(Generative', 'Pre-trained', 'Transformer).', 'The', 'model', 'is', 'trained', 'on', 'a', 'text', 'dataset,', 'specifically', 'the', 'book', '\"Pride', 'and', 'Prejudice,\"', 'to', 'learn', 'to', 'generate', 'text', 'in', 'the', 'style', 'of', 'the', 'book.', 'The', 'script', 'trains', 'the', 'model', 'on', 'the', 'text', 'of', '\"Pride', 'and', 'Prejudice\"', 'to', 'generate', 'text', 'in', 'a', 'similar', 'style.', 'After', 'training,', 'the', 'model', 'can', 'be', 'used', 'to', 'generate', 'text', 'by', 'predicting', 'the', 'next', 'token', 'in', 'a', 'sequence', 'based', 'on', 'the', 'previous', 'tokens.']\n",
      "Vocab: {'and': 4, 'is': 5, 'next': 6, 'to': 7, 'trains': 8, 'trained': 9, 'specifically': 10, 'decoder-only': 11, 'similar': 12, 'the': 13, 'This': 14, 'book.': 15, 'style.': 16, 'Transformer).': 17, 'GPT': 18, 'dataset,': 19, 'implements': 20, 'token': 21, 'Pre-trained': 22, 'model': 23, 'style': 24, '(Generative': 25, 'used': 26, 'generation,': 27, 'generate': 28, 'tokens.': 29, 'in': 30, 'Prejudice,\"': 31, 'Prejudice\"': 32, 'script': 33, 'for': 34, '\"Pride': 35, 'of': 36, 'on': 37, 'Transformer': 38, 'text': 39, 'architecture': 40, 'learn': 41, 'After': 42, 'be': 43, 'by': 44, 'predicting': 45, 'sequence': 46, 'previous': 47, 'The': 48, 'book': 49, 'based': 50, 'training,': 51, 'can': 52, 'a': 53}\n",
      "Vocabulary size: 54\n",
      "Sample vocabulary: {'and': 4, 'is': 5, 'next': 6, 'to': 7, 'trains': 8, 'trained': 9, 'specifically': 10, 'decoder-only': 11, 'similar': 12, 'the': 13}\n"
     ]
    }
   ],
   "source": [
    "import torch\n",
    "import torch.nn as nn\n",
    "\n",
    "# Define the input text\n",
    "text = \"\"\"\n",
    "This script implements a decoder-only Transformer model for text generation, similar to the architecture used in GPT (Generative Pre-trained Transformer). The model is trained on a text dataset, specifically the book \"Pride and Prejudice,\" to learn to generate text in the style of the book.\n",
    "The script trains the model on the text of \"Pride and Prejudice\" to generate text in a similar style. After training, the model can be used to generate text by predicting the next token in a sequence based on the previous tokens.\n",
    "\"\"\"\n",
    "\n",
    "# Tokenize the text and create the vocabulary\n",
    "def create_vocab(text):\n",
    "    words = text.split()\n",
    "    print(f\"Words: {words}\")\n",
    "    unique_words = set(words) # removes duplicates\n",
    "    print(f\"Unique Words: {words}\")\n",
    "    vocab = {word: i + 4 for i, word in enumerate(unique_words)} # create dict - map each word to a index\n",
    "    print(f\"Vocab: {vocab}\")\n",
    "\n",
    "    # Add special tokens to the vocabulary with fixed indices\n",
    "    vocab['<pad>'] = 0\n",
    "    vocab['<unk>'] = 1\n",
    "    vocab['<sos>'] = 2\n",
    "    vocab['<eos>'] = 3\n",
    "    return vocab\n",
    "\n",
    "vocab = create_vocab(text)\n",
    "print(\"Vocabulary size:\", len(vocab))\n",
    "print(\"Sample vocabulary:\", {k: vocab[k] for k in list(vocab)[:10]})"
   ]
  },
  {
   "cell_type": "code",
   "execution_count": 7,
   "metadata": {},
   "outputs": [
    {
     "name": "stdout",
     "output_type": "stream",
     "text": [
      "Vocab Size: 54\n",
      "Embedding Matrix Shape: Embedding(54, 10)\n",
      "Embedding Matrix:\n",
      "tensor([[-0.7134,  0.8688,  1.3469,  1.1180,  0.1505, -0.0051, -0.3310,  1.2101,\n",
      "          0.1746, -1.1810],\n",
      "        [ 0.0110, -0.7756,  0.0655,  0.6984,  0.7567,  0.5876,  0.4589, -0.9991,\n",
      "         -1.4687,  0.9774],\n",
      "        [-0.8876,  0.1901,  0.6459,  0.7162, -0.1220, -1.2163,  1.0151,  1.9437,\n",
      "          0.5806,  0.4763],\n",
      "        [ 2.3391, -1.1586,  0.3593,  0.0393, -0.6560,  1.6169, -0.3945,  1.6842,\n",
      "         -0.4104,  0.1307],\n",
      "        [-0.6312,  0.9993,  0.1227,  0.1271, -0.7444, -1.6597, -0.6040, -0.3311,\n",
      "         -0.5896,  0.4967],\n",
      "        [ 1.6065, -0.7332,  0.1695,  0.9445, -0.0093, -0.5057,  1.2169,  0.4072,\n",
      "          1.4626, -0.0852],\n",
      "        [ 0.8678, -0.6703,  0.9492, -0.5831,  0.1969, -1.8614, -0.8551,  0.2058,\n",
      "         -1.6572,  1.3315],\n",
      "        [ 0.3368,  1.7116,  0.4607, -1.6562, -0.9687,  0.2387, -2.7380,  1.9829,\n",
      "         -1.5454, -1.8589],\n",
      "        [ 0.6160, -0.5725,  0.6636, -0.8246,  0.4503, -1.1978,  1.2286, -0.7231,\n",
      "         -0.0772, -0.9263],\n",
      "        [ 0.0532,  1.1365,  1.1305, -0.5774, -0.6919, -0.8145, -0.3034,  0.4788,\n",
      "         -0.6484,  1.3075],\n",
      "        [ 1.5105,  0.3151,  0.4501, -0.0355, -2.0139,  1.2397, -0.4395, -0.3693,\n",
      "          2.0751, -0.1206],\n",
      "        [ 1.1089,  0.0651,  0.8148,  0.9493, -0.5555, -1.0155, -0.5463,  0.1396,\n",
      "          0.7393, -0.0783],\n",
      "        [-0.0609, -0.0452,  0.4401,  2.0551,  0.7502, -0.1911, -0.7014,  0.2815,\n",
      "         -1.6272,  0.4488],\n",
      "        [-0.0917, -1.6403, -0.0499, -1.2334,  2.2588, -0.6879,  1.4828, -0.2319,\n",
      "          1.4807, -0.3915],\n",
      "        [ 0.6455, -0.4204,  1.0258,  0.8553, -1.0646,  0.4976,  0.6081,  0.9524,\n",
      "         -1.2105,  0.6542],\n",
      "        [-0.2745,  1.2201,  0.4359, -0.7347,  0.3809,  1.3981,  0.7327,  2.3940,\n",
      "         -0.0234, -0.5456],\n",
      "        [ 0.9873, -0.8157, -0.7221, -2.0209, -1.0487,  1.3216, -0.2942, -0.0129,\n",
      "          1.0946,  1.2061],\n",
      "        [-0.8263,  1.6103, -0.3001,  2.7358, -0.3518,  1.0109, -1.5310, -0.9883,\n",
      "         -0.6175, -1.0907],\n",
      "        [-0.0365, -0.7132, -0.8320,  0.1077,  0.2525,  0.5614, -0.1908, -0.7620,\n",
      "          0.4836,  1.1008],\n",
      "        [ 0.4911,  0.2207,  0.5241,  1.7528,  0.7307,  1.3925, -0.2648, -0.1235,\n",
      "         -0.5379, -2.3035],\n",
      "        [-0.8610, -0.4357,  0.7845, -0.9172,  0.0660,  0.6185,  0.4020, -0.9364,\n",
      "         -0.9197,  0.0724],\n",
      "        [-1.2908, -0.2341,  1.0529,  0.6402,  0.0496, -1.4590, -0.5856,  0.2367,\n",
      "         -0.1401,  0.1813],\n",
      "        [ 0.6859,  0.4023,  0.3321,  0.8136,  1.4736, -0.6766,  1.3459,  0.2516,\n",
      "          1.0232, -1.2601],\n",
      "        [-0.0872, -0.9641,  1.2537, -0.2453,  0.3611, -0.0908,  0.3606,  0.6847,\n",
      "         -1.3563,  2.0416],\n",
      "        [-0.7460,  0.5866, -0.5269, -0.9149,  0.1557, -2.5914,  0.4848,  0.2695,\n",
      "         -0.5891,  0.1615],\n",
      "        [-1.3100,  0.2608,  0.3725, -1.0012,  0.5988, -0.1227, -0.1788, -0.9240,\n",
      "         -0.0993, -1.1608],\n",
      "        [-0.8402,  0.7023, -0.4611,  0.6136,  0.5255,  0.3206, -0.5475, -1.0476,\n",
      "          1.7238,  1.0393],\n",
      "        [ 0.3425,  0.5883,  0.1142,  0.8708, -0.4043,  0.9362,  0.7067,  0.4513,\n",
      "         -0.9523, -0.1016],\n",
      "        [ 1.3583,  0.9070,  1.6113,  0.6606,  1.4799,  0.5239, -1.1013, -0.3637,\n",
      "          0.6754,  0.4287],\n",
      "        [ 1.5639, -0.4089,  2.7919,  0.4614,  0.6892,  0.2518, -1.5258, -2.0870,\n",
      "          1.3829, -0.5797],\n",
      "        [-0.7316, -0.3920, -0.1062, -1.6524, -0.0461,  0.5874, -0.0721, -0.7196,\n",
      "         -0.1796, -0.8883],\n",
      "        [ 1.1244,  0.1543,  0.3894,  0.8537,  1.0262, -0.5751,  0.8051, -1.3784,\n",
      "          0.8139,  0.7697],\n",
      "        [ 1.2776,  1.2297, -0.1230,  0.8726, -0.0560, -1.0084,  0.1335, -0.4587,\n",
      "         -0.1342, -0.8078],\n",
      "        [ 0.4451, -1.4647,  0.4904, -0.3928, -0.8869, -1.3917, -0.9653,  0.5140,\n",
      "         -0.2265,  1.2743],\n",
      "        [ 1.0944,  0.0371, -1.0417,  0.8010,  0.8352,  1.9393,  0.0043,  2.1557,\n",
      "          0.3482, -0.1377],\n",
      "        [ 0.1824,  1.7171,  0.6571,  0.8967, -1.3196,  0.3951,  1.9168,  0.0768,\n",
      "          1.7115, -1.3142],\n",
      "        [-0.6712, -0.7684,  0.2255, -0.6546, -0.7529,  1.6508, -1.7183,  1.5869,\n",
      "         -0.0302,  1.5581],\n",
      "        [-0.1152,  1.0232,  0.5218, -0.9356,  0.2623,  2.6092,  2.1839, -0.5100,\n",
      "         -0.5154, -1.0573],\n",
      "        [ 1.6487,  0.6316,  0.1451, -2.2927,  1.2374, -0.7668, -0.4535, -0.2941,\n",
      "          0.5696, -0.1202],\n",
      "        [ 0.1785, -0.1863, -1.8988,  0.0260,  1.1783,  0.6342,  0.0627, -1.6430,\n",
      "          0.3705,  0.0059],\n",
      "        [-0.6027,  0.3818,  0.8942,  0.3948, -1.0722, -1.7045, -1.8073, -0.6790,\n",
      "         -0.2855, -0.5069],\n",
      "        [-0.4098, -0.7494, -0.7212,  0.6883,  0.5353, -0.5891, -0.2135,  2.5050,\n",
      "         -1.5228,  0.2486],\n",
      "        [ 0.7005, -0.5816,  0.7061,  1.3299,  1.6154,  0.3269,  0.5004,  0.7723,\n",
      "          0.9238, -0.2015],\n",
      "        [ 0.3357,  0.7420,  1.7756, -1.7695,  0.1687,  1.0981, -0.9532, -0.9447,\n",
      "          0.1063, -0.6928],\n",
      "        [-0.1421,  0.1123,  1.2134, -0.1541,  2.0204, -0.7249, -1.7168, -2.8563,\n",
      "          0.0229,  2.1500],\n",
      "        [-2.1326, -1.1077, -0.4840, -1.1184,  1.2021, -0.3291,  0.3122, -0.6462,\n",
      "         -0.7639, -0.8378],\n",
      "        [ 0.0537, -0.6104, -0.0762,  0.0053,  1.0674,  1.2789,  0.5554, -0.5717,\n",
      "         -1.0684, -0.5874],\n",
      "        [-1.3421, -0.0501,  0.5309, -0.7851,  1.5772, -0.9170,  0.9367,  0.1174,\n",
      "          0.1700,  0.8154],\n",
      "        [-1.1912, -0.1907, -0.5252, -2.0912,  0.8036,  0.1754,  1.1886, -0.6522,\n",
      "         -0.9866,  0.6633],\n",
      "        [ 1.1574,  0.2028,  1.4769, -0.5261, -0.3427, -0.5048, -1.3209, -1.2400,\n",
      "         -0.9981, -0.7325],\n",
      "        [-0.4523,  0.9917,  1.3496,  0.7773, -0.6110,  0.7694, -0.6716,  0.3632,\n",
      "         -0.2057,  1.5338],\n",
      "        [-0.1286,  0.0550, -0.4374,  0.2492,  0.4449, -0.8959, -0.0803,  0.1422,\n",
      "         -0.2369,  0.0710],\n",
      "        [-1.8729,  1.0080, -0.0594, -1.8574,  1.0642, -0.5405, -1.0451, -0.5899,\n",
      "         -0.8233,  0.6259],\n",
      "        [-0.4876, -1.6080, -0.3071,  0.2133,  1.6380, -0.4992, -0.4185, -1.1220,\n",
      "          1.2921,  0.2220]])\n"
     ]
    }
   ],
   "source": [
    "# Define the embedding layer\n",
    "vocab_size = len(vocab)  # Example vocabulary size\n",
    "print(f\"Vocab Size: {vocab_size}\")\n",
    "\n",
    "embedding_dim = 10  # Embedding dimension\n",
    "embedding_layer = nn.Embedding(vocab_size, embedding_dim)\n",
    "print(f\"Embedding Matrix Shape: {embedding_layer}\")\n",
    "\n",
    "# Extract the embedding matrix\n",
    "embedding_matrix = embedding_layer.weight.data\n",
    "\n",
    "print(\"Embedding Matrix:\")\n",
    "print(embedding_matrix)\n"
   ]
  },
  {
   "cell_type": "markdown",
   "metadata": {},
   "source": [
    "An embedding matrix of shape (54, 10) is created. Each row in this matrix corresponds to a word vector of size 10.  We can also print out the full Embedding Matrix as shown above."
   ]
  },
  {
   "cell_type": "markdown",
   "metadata": {},
   "source": [
    "### Extract the First Sentence and Convert to Indices"
   ]
  },
  {
   "cell_type": "code",
   "execution_count": 8,
   "metadata": {},
   "outputs": [
    {
     "name": "stdout",
     "output_type": "stream",
     "text": [
      "Sentence indicies: [14, 33, 20, 53, 11, 38, 23, 34, 39, 1]\n",
      "Input indices: tensor([14, 33, 20, 53, 11, 38, 23, 34, 39,  1])\n"
     ]
    }
   ],
   "source": [
    "first_sentence = \"This script implements a decoder-only Transformer model for text generation\"\n",
    "first_sentence_indices = [vocab.get(word, vocab['<unk>']) for word in first_sentence.split()]\n",
    "print(f\"Sentence indicies: {first_sentence_indices}\")\n",
    "\n",
    "# Turn it into a tensor for processing\n",
    "input_indices = torch.tensor(first_sentence_indices, dtype=torch.long)\n",
    "print(f\"Input indices: {input_indices}\")\n"
   ]
  },
  {
   "cell_type": "markdown",
   "metadata": {},
   "source": [
    "### Get the embeddings for the input sequence"
   ]
  },
  {
   "cell_type": "code",
   "execution_count": 20,
   "metadata": {},
   "outputs": [
    {
     "name": "stdout",
     "output_type": "stream",
     "text": [
      "Input sequence embedding: \n",
      " tensor([[-0.1164, -0.0656, -0.2980,  ...,  0.0169, -2.1042, -0.4275],\n",
      "        [ 0.2040,  0.0248, -0.7561,  ..., -0.6447, -0.5856, -0.4786],\n",
      "        [ 1.6655, -1.0964,  0.6137,  ..., -0.9008, -0.4949,  0.7380],\n",
      "        [-0.1164, -0.0656, -0.2980,  ...,  0.0169, -2.1042, -0.4275],\n",
      "        [-0.0211,  0.5515,  0.3734,  ..., -2.7401, -1.0484, -0.4281]],\n",
      "       grad_fn=<EmbeddingBackward0>) \n",
      "\n"
     ]
    }
   ],
   "source": [
    "embeddings = embedding_layer(input_indices)\n",
    "\n",
    "print(f\"Input sequence embedding: \\n {embeddings} \\n\")"
   ]
  },
  {
   "cell_type": "markdown",
   "metadata": {},
   "source": [
    "Retrieve the corresponding rows from the embedding matrix  E  for each index.\n",
    "\n",
    "So, If first_sentence_indices = [21, 6, 15, 8, 53, 50, 34, 24, 1], the corresponding embeddings would be something like this:"
   ]
  },
  {
   "cell_type": "code",
   "execution_count": 21,
   "metadata": {},
   "outputs": [],
   "source": [
    "embeddings_example = [\n",
    " [0.5, 0.6, ..., 0.8],  # Embedding for 'This' (index 21)\n",
    " [0.3, 0.4, ..., 0.7],  # Embedding for 'script' (index 6)\n",
    " [0.7, 0.1, ..., 0.9],  # Embedding for 'implements' (index 15)\n",
    " [0.4, 0.5, ..., 0.6],  # Embedding for 'decoder-only' (index 8)\n",
    " [0.2, 0.3, ..., 0.4],  # Embedding for 'Transformer' (index 53)\n",
    " [0.4, 0.5, ..., 0.6],  # Embedding for 'model' (index 50)\n",
    " [0.1, 0.2, ..., 0.3],  # Embedding for 'for' (index 34)\n",
    " [0.3, 0.4, ..., 0.7],  # Embedding for 'text' (index 24)\n",
    " [0.3, 0.4, ..., 0.7],  # Embedding for 'generation' (<unk>, index 1)\n",
    "]"
   ]
  },
  {
   "cell_type": "markdown",
   "metadata": {},
   "source": [
    "However, let's get the actualy Embeddings from the first_sentence_indices:"
   ]
  },
  {
   "cell_type": "code",
   "execution_count": 22,
   "metadata": {},
   "outputs": [
    {
     "name": "stdout",
     "output_type": "stream",
     "text": [
      "Embeddings shape:  torch.Size([5, 512])\n",
      "\n",
      "first_sentence_indices Embeddings: \n",
      "\n",
      "tensor([[-0.1164, -0.0656, -0.2980,  ...,  0.0169, -2.1042, -0.4275],\n",
      "        [ 0.2040,  0.0248, -0.7561,  ..., -0.6447, -0.5856, -0.4786],\n",
      "        [ 1.6655, -1.0964,  0.6137,  ..., -0.9008, -0.4949,  0.7380],\n",
      "        [-0.1164, -0.0656, -0.2980,  ...,  0.0169, -2.1042, -0.4275],\n",
      "        [-0.0211,  0.5515,  0.3734,  ..., -2.7401, -1.0484, -0.4281]],\n",
      "       grad_fn=<EmbeddingBackward0>)\n"
     ]
    }
   ],
   "source": [
    "print(\"Embeddings shape: \", embeddings.shape)\n",
    "\n",
    "print(f\"\\nfirst_sentence_indices Embeddings: \\n\\n{embeddings}\")"
   ]
  },
  {
   "cell_type": "markdown",
   "metadata": {},
   "source": [
    "Now, that we have completed the first step and created embeddings for the input sequence (sentence), we can now proceed to the next step in the transformer architecture and add positional embeddings.  This will help the model understand the positions of words in a sequence or batch of sequences that are being processed."
   ]
  },
  {
   "cell_type": "code",
   "execution_count": null,
   "metadata": {},
   "outputs": [],
   "source": []
  }
 ],
 "metadata": {
  "kernelspec": {
   "display_name": ".venv",
   "language": "python",
   "name": "python3"
  },
  "language_info": {
   "codemirror_mode": {
    "name": "ipython",
    "version": 3
   },
   "file_extension": ".py",
   "mimetype": "text/x-python",
   "name": "python",
   "nbconvert_exporter": "python",
   "pygments_lexer": "ipython3",
   "version": "3.11.7"
  }
 },
 "nbformat": 4,
 "nbformat_minor": 2
}
