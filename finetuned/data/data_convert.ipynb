{
 "cells": [
  {
   "cell_type": "code",
   "execution_count": 1,
   "metadata": {},
   "outputs": [
    {
     "name": "stdout",
     "output_type": "stream",
     "text": [
      "Transformed data saved to fafsa_data.json\n"
     ]
    }
   ],
   "source": [
    "import json\n",
    "\n",
    "# Load the JSON file\n",
    "with open('data.json') as f:\n",
    "    data = json.load(f)\n",
    "\n",
    "# Transform the data\n",
    "transformed_data = []\n",
    "for item in data:\n",
    "    transformed_item = {\n",
    "        \"instruction\": item[\"question\"],\n",
    "        \"input\": \"\",\n",
    "        \"output\": item[\"answer\"]\n",
    "    }\n",
    "    transformed_data.append(transformed_item)\n",
    "\n",
    "# Save the transformed data to a new JSON file\n",
    "new_file_path = 'fafsa_data.json'\n",
    "with open(new_file_path, 'w') as f:\n",
    "    json.dump(transformed_data, f, indent=4)\n",
    "\n",
    "print(f\"Transformed data saved to {new_file_path}\")"
   ]
  },
  {
   "cell_type": "code",
   "execution_count": 5,
   "metadata": {},
   "outputs": [
    {
     "name": "stdout",
     "output_type": "stream",
     "text": [
      "Train data saved to: train.jsonl\n",
      "Validation data saved to: valid.jsonl\n",
      "Test data saved to: test.jsonl\n"
     ]
    }
   ],
   "source": [
    "import json\n",
    "import random\n",
    "\n",
    "# Load the original JSON file\n",
    "input_file_path = 'data.json'\n",
    "output_train_file_path = 'train.jsonl'\n",
    "output_valid_file_path = 'valid.jsonl'\n",
    "output_test_file_path = 'test.jsonl'\n",
    "\n",
    "with open(input_file_path, 'r') as file:\n",
    "    data = json.load(file)\n",
    "\n",
    "# Shuffle the data\n",
    "random.shuffle(data)\n",
    "\n",
    "# Split the data\n",
    "valid_data = data[:100]\n",
    "test_data = data[100:200]\n",
    "train_data = data[200:]\n",
    "\n",
    "def write_jsonl(file_path, data):\n",
    "    with open(file_path, 'w') as file:\n",
    "        for entry in data:\n",
    "            question = entry.get(\"question\", \"\")\n",
    "            answer = entry.get(\"answer\", \"\")\n",
    "            converted_entry = {\"text\": f\"Q: {question}\\nA: {answer}\"}\n",
    "            file.write(json.dumps(converted_entry) + '\\n')\n",
    "\n",
    "# Write the data to the respective files\n",
    "write_jsonl(output_train_file_path, train_data)\n",
    "write_jsonl(output_valid_file_path, valid_data)\n",
    "write_jsonl(output_test_file_path, test_data)\n",
    "\n",
    "print(f\"Train data saved to: {output_train_file_path}\")\n",
    "print(f\"Validation data saved to: {output_valid_file_path}\")\n",
    "print(f\"Test data saved to: {output_test_file_path}\")"
   ]
  }
 ],
 "metadata": {
  "kernelspec": {
   "display_name": ".venv",
   "language": "python",
   "name": "python3"
  },
  "language_info": {
   "codemirror_mode": {
    "name": "ipython",
    "version": 3
   },
   "file_extension": ".py",
   "mimetype": "text/x-python",
   "name": "python",
   "nbconvert_exporter": "python",
   "pygments_lexer": "ipython3",
   "version": "3.11.7"
  }
 },
 "nbformat": 4,
 "nbformat_minor": 2
}
