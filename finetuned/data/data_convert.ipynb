{
 "cells": [
  {
   "cell_type": "code",
   "execution_count": 1,
   "metadata": {},
   "outputs": [
    {
     "name": "stdout",
     "output_type": "stream",
     "text": [
      "Transformed data saved to fafsa_data.json\n"
     ]
    }
   ],
   "source": [
    "import json\n",
    "\n",
    "# Load the JSON file\n",
    "with open('data.json') as f:\n",
    "    data = json.load(f)\n",
    "\n",
    "# Transform the data\n",
    "transformed_data = []\n",
    "for item in data:\n",
    "    transformed_item = {\n",
    "        \"instruction\": item[\"question\"],\n",
    "        \"input\": \"\",\n",
    "        \"output\": item[\"answer\"]\n",
    "    }\n",
    "    transformed_data.append(transformed_item)\n",
    "\n",
    "# Save the transformed data to a new JSON file\n",
    "new_file_path = 'fafsa_data.json'\n",
    "with open(new_file_path, 'w') as f:\n",
    "    json.dump(transformed_data, f, indent=4)\n",
    "\n",
    "print(f\"Transformed data saved to {new_file_path}\")"
   ]
  }
 ],
 "metadata": {
  "kernelspec": {
   "display_name": ".venv",
   "language": "python",
   "name": "python3"
  },
  "language_info": {
   "codemirror_mode": {
    "name": "ipython",
    "version": 3
   },
   "file_extension": ".py",
   "mimetype": "text/x-python",
   "name": "python",
   "nbconvert_exporter": "python",
   "pygments_lexer": "ipython3",
   "version": "3.11.7"
  }
 },
 "nbformat": 4,
 "nbformat_minor": 2
}
